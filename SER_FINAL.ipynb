{
 "cells": [
  {
   "cell_type": "code",
   "execution_count": 14,
   "id": "b1dd2f55-cc08-4493-94e3-506cdc17b4b3",
   "metadata": {},
   "outputs": [
    {
     "name": "stdout",
     "output_type": "stream",
     "text": [
      "Collecting tensorflow\n",
      "  Using cached tensorflow-2.16.2-cp312-cp312-win_amd64.whl.metadata (3.3 kB)\n",
      "Collecting tensorflow-intel==2.16.2 (from tensorflow)\n",
      "  Using cached tensorflow_intel-2.16.2-cp312-cp312-win_amd64.whl.metadata (5.0 kB)\n",
      "Collecting absl-py>=1.0.0 (from tensorflow-intel==2.16.2->tensorflow)\n",
      "  Using cached absl_py-2.1.0-py3-none-any.whl.metadata (2.3 kB)\n",
      "Collecting astunparse>=1.6.0 (from tensorflow-intel==2.16.2->tensorflow)\n",
      "  Using cached astunparse-1.6.3-py2.py3-none-any.whl.metadata (4.4 kB)\n",
      "Collecting flatbuffers>=23.5.26 (from tensorflow-intel==2.16.2->tensorflow)\n",
      "  Using cached flatbuffers-24.3.25-py2.py3-none-any.whl.metadata (850 bytes)\n",
      "Collecting gast!=0.5.0,!=0.5.1,!=0.5.2,>=0.2.1 (from tensorflow-intel==2.16.2->tensorflow)\n",
      "  Using cached gast-0.6.0-py3-none-any.whl\n",
      "Collecting google-pasta>=0.1.1 (from tensorflow-intel==2.16.2->tensorflow)\n",
      "  Using cached google_pasta-0.2.0-py3-none-any.whl.metadata (814 bytes)\n",
      "Requirement already satisfied: h5py>=3.10.0 in c:\\users\\sarth\\anaconda3\\lib\\site-packages (from tensorflow-intel==2.16.2->tensorflow) (3.11.0)\n",
      "Collecting libclang>=13.0.0 (from tensorflow-intel==2.16.2->tensorflow)\n",
      "  Using cached libclang-18.1.1-py2.py3-none-win_amd64.whl.metadata (5.3 kB)\n",
      "Collecting ml-dtypes~=0.3.1 (from tensorflow-intel==2.16.2->tensorflow)\n",
      "  Using cached ml_dtypes-0.3.2-cp312-cp312-win_amd64.whl.metadata (20 kB)\n",
      "Collecting opt-einsum>=2.3.2 (from tensorflow-intel==2.16.2->tensorflow)\n",
      "  Using cached opt_einsum-3.3.0-py3-none-any.whl.metadata (6.5 kB)\n",
      "Requirement already satisfied: packaging in c:\\users\\sarth\\anaconda3\\lib\\site-packages (from tensorflow-intel==2.16.2->tensorflow) (23.2)\n",
      "Requirement already satisfied: protobuf!=4.21.0,!=4.21.1,!=4.21.2,!=4.21.3,!=4.21.4,!=4.21.5,<5.0.0dev,>=3.20.3 in c:\\users\\sarth\\anaconda3\\lib\\site-packages (from tensorflow-intel==2.16.2->tensorflow) (3.20.3)\n",
      "Requirement already satisfied: requests<3,>=2.21.0 in c:\\users\\sarth\\anaconda3\\lib\\site-packages (from tensorflow-intel==2.16.2->tensorflow) (2.32.2)\n",
      "Requirement already satisfied: setuptools in c:\\users\\sarth\\anaconda3\\lib\\site-packages (from tensorflow-intel==2.16.2->tensorflow) (69.5.1)\n",
      "Requirement already satisfied: six>=1.12.0 in c:\\users\\sarth\\anaconda3\\lib\\site-packages (from tensorflow-intel==2.16.2->tensorflow) (1.16.0)\n",
      "Collecting termcolor>=1.1.0 (from tensorflow-intel==2.16.2->tensorflow)\n",
      "  Using cached termcolor-2.4.0-py3-none-any.whl.metadata (6.1 kB)\n",
      "Requirement already satisfied: typing-extensions>=3.6.6 in c:\\users\\sarth\\anaconda3\\lib\\site-packages (from tensorflow-intel==2.16.2->tensorflow) (4.11.0)\n",
      "Requirement already satisfied: wrapt>=1.11.0 in c:\\users\\sarth\\anaconda3\\lib\\site-packages (from tensorflow-intel==2.16.2->tensorflow) (1.14.1)\n",
      "Collecting grpcio<2.0,>=1.24.3 (from tensorflow-intel==2.16.2->tensorflow)\n",
      "  Using cached grpcio-1.64.1-cp312-cp312-win_amd64.whl.metadata (3.4 kB)\n",
      "Collecting tensorboard<2.17,>=2.16 (from tensorflow-intel==2.16.2->tensorflow)\n",
      "  Using cached tensorboard-2.16.2-py3-none-any.whl.metadata (1.6 kB)\n",
      "Collecting keras>=3.0.0 (from tensorflow-intel==2.16.2->tensorflow)\n",
      "  Using cached keras-3.4.1-py3-none-any.whl.metadata (5.8 kB)\n",
      "Requirement already satisfied: numpy<2.0.0,>=1.26.0 in c:\\users\\sarth\\anaconda3\\lib\\site-packages (from tensorflow-intel==2.16.2->tensorflow) (1.26.4)\n",
      "Requirement already satisfied: wheel<1.0,>=0.23.0 in c:\\users\\sarth\\anaconda3\\lib\\site-packages (from astunparse>=1.6.0->tensorflow-intel==2.16.2->tensorflow) (0.43.0)\n",
      "Requirement already satisfied: rich in c:\\users\\sarth\\anaconda3\\lib\\site-packages (from keras>=3.0.0->tensorflow-intel==2.16.2->tensorflow) (13.7.1)\n",
      "Collecting namex (from keras>=3.0.0->tensorflow-intel==2.16.2->tensorflow)\n",
      "  Using cached namex-0.0.8-py3-none-any.whl.metadata (246 bytes)\n",
      "Collecting optree (from keras>=3.0.0->tensorflow-intel==2.16.2->tensorflow)\n",
      "  Using cached optree-0.12.0-cp312-cp312-win_amd64.whl.metadata (48 kB)\n",
      "Requirement already satisfied: charset-normalizer<4,>=2 in c:\\users\\sarth\\anaconda3\\lib\\site-packages (from requests<3,>=2.21.0->tensorflow-intel==2.16.2->tensorflow) (2.0.4)\n",
      "Requirement already satisfied: idna<4,>=2.5 in c:\\users\\sarth\\anaconda3\\lib\\site-packages (from requests<3,>=2.21.0->tensorflow-intel==2.16.2->tensorflow) (3.7)\n",
      "Requirement already satisfied: urllib3<3,>=1.21.1 in c:\\users\\sarth\\anaconda3\\lib\\site-packages (from requests<3,>=2.21.0->tensorflow-intel==2.16.2->tensorflow) (2.2.2)\n",
      "Requirement already satisfied: certifi>=2017.4.17 in c:\\users\\sarth\\anaconda3\\lib\\site-packages (from requests<3,>=2.21.0->tensorflow-intel==2.16.2->tensorflow) (2024.6.2)\n",
      "Requirement already satisfied: markdown>=2.6.8 in c:\\users\\sarth\\anaconda3\\lib\\site-packages (from tensorboard<2.17,>=2.16->tensorflow-intel==2.16.2->tensorflow) (3.4.1)\n",
      "Collecting tensorboard-data-server<0.8.0,>=0.7.0 (from tensorboard<2.17,>=2.16->tensorflow-intel==2.16.2->tensorflow)\n",
      "  Using cached tensorboard_data_server-0.7.2-py3-none-any.whl.metadata (1.1 kB)\n",
      "Requirement already satisfied: werkzeug>=1.0.1 in c:\\users\\sarth\\anaconda3\\lib\\site-packages (from tensorboard<2.17,>=2.16->tensorflow-intel==2.16.2->tensorflow) (3.0.3)\n",
      "Requirement already satisfied: MarkupSafe>=2.1.1 in c:\\users\\sarth\\anaconda3\\lib\\site-packages (from werkzeug>=1.0.1->tensorboard<2.17,>=2.16->tensorflow-intel==2.16.2->tensorflow) (2.1.3)\n",
      "Requirement already satisfied: markdown-it-py>=2.2.0 in c:\\users\\sarth\\anaconda3\\lib\\site-packages (from rich->keras>=3.0.0->tensorflow-intel==2.16.2->tensorflow) (2.2.0)\n",
      "Requirement already satisfied: pygments<3.0.0,>=2.13.0 in c:\\users\\sarth\\anaconda3\\lib\\site-packages (from rich->keras>=3.0.0->tensorflow-intel==2.16.2->tensorflow) (2.15.1)\n",
      "Requirement already satisfied: mdurl~=0.1 in c:\\users\\sarth\\anaconda3\\lib\\site-packages (from markdown-it-py>=2.2.0->rich->keras>=3.0.0->tensorflow-intel==2.16.2->tensorflow) (0.1.0)\n",
      "Using cached tensorflow-2.16.2-cp312-cp312-win_amd64.whl (2.1 kB)\n",
      "Using cached tensorflow_intel-2.16.2-cp312-cp312-win_amd64.whl (377.1 MB)\n",
      "Using cached absl_py-2.1.0-py3-none-any.whl (133 kB)\n",
      "Using cached astunparse-1.6.3-py2.py3-none-any.whl (12 kB)\n",
      "Using cached flatbuffers-24.3.25-py2.py3-none-any.whl (26 kB)\n",
      "Using cached google_pasta-0.2.0-py3-none-any.whl (57 kB)\n",
      "Using cached grpcio-1.64.1-cp312-cp312-win_amd64.whl (4.1 MB)\n",
      "Using cached keras-3.4.1-py3-none-any.whl (1.1 MB)\n",
      "Using cached libclang-18.1.1-py2.py3-none-win_amd64.whl (26.4 MB)\n",
      "Using cached ml_dtypes-0.3.2-cp312-cp312-win_amd64.whl (128 kB)\n",
      "Using cached opt_einsum-3.3.0-py3-none-any.whl (65 kB)\n",
      "Using cached tensorboard-2.16.2-py3-none-any.whl (5.5 MB)\n",
      "Using cached termcolor-2.4.0-py3-none-any.whl (7.7 kB)\n",
      "Using cached tensorboard_data_server-0.7.2-py3-none-any.whl (2.4 kB)\n",
      "Using cached namex-0.0.8-py3-none-any.whl (5.8 kB)\n",
      "Using cached optree-0.12.0-cp312-cp312-win_amd64.whl (267 kB)\n",
      "Installing collected packages: namex, libclang, flatbuffers, termcolor, tensorboard-data-server, optree, opt-einsum, ml-dtypes, grpcio, google-pasta, gast, astunparse, absl-py, tensorboard, keras, tensorflow-intel, tensorflow\n",
      "Successfully installed absl-py-2.1.0 astunparse-1.6.3 flatbuffers-24.3.25 gast-0.6.0 google-pasta-0.2.0 grpcio-1.64.1 keras-3.4.1 libclang-18.1.1 ml-dtypes-0.3.2 namex-0.0.8 opt-einsum-3.3.0 optree-0.12.0 tensorboard-2.16.2 tensorboard-data-server-0.7.2 tensorflow-2.16.2 tensorflow-intel-2.16.2 termcolor-2.4.0\n",
      "Note: you may need to restart the kernel to use updated packages.\n"
     ]
    }
   ],
   "source": [
    "pip install tensorflow"
   ]
  },
  {
   "cell_type": "code",
   "execution_count": 15,
   "id": "063c8582-cc43-4e7f-8b3b-80ee96f63473",
   "metadata": {},
   "outputs": [],
   "source": [
    "import numpy as np # linear algebra\n",
    "from sklearn.preprocessing import LabelEncoder\n",
    "import pandas as pd # data processing, CSV file I/O (e.g. pd.read_csv)\n",
    "import os # to use operating system dependent functionality\n",
    "import librosa # to extract speech features\n",
    "import wave # read and write WAV files\n",
    "import matplotlib.pyplot as plt # to generate the visualizations\n",
    "\n",
    "# MLP Classifier\n",
    "from sklearn.model_selection import train_test_split\n",
    "from sklearn.neural_network import MLPClassifier\n",
    "from sklearn.metrics import accuracy_score\n",
    "\n",
    "# LSTM Classifier\n",
    "import tensorflow as tf\n",
    "import keras\n",
    "from tensorflow.keras.utils import to_categorical\n",
    "from keras.models import Sequential\n",
    "from keras.layers import *\n",
    "from keras.src.optimizers import optimizer"
   ]
  },
  {
   "cell_type": "markdown",
   "id": "66dd36b3-e847-4a51-8d5b-db21505645d3",
   "metadata": {},
   "source": [
    "# SPEECH EMOTION DETECTION\n",
    "Speech Emotion Detection (SED) is the task of automatically recognizing and classifying emotions conveyed through speech signals. It involves the use of techniques from signal processing, machine learning, and natural language processing (NLP) to analyze vocal cues and identify the emotional state of a speaker.\n",
    "\n",
    "### Key Aspects of Speech Emotion Detection:\n",
    "\n",
    "- **Signal Processing**: Techniques such as feature extraction from audio signals (e.g., MFCC - Mel Frequency Cepstral Coefficients) to capture relevant characteristics related to pitch, intensity, and spectral content that correlate with emotions.\n",
    "\n",
    "- **Feature Engineering**: Selection and transformation of acoustic features that are relevant for distinguishing different emotional states.\n",
    "\n",
    "- **Machine Learning and Deep Learning**: Utilization of various models and algorithms, including traditional machine learning methods (e.g., Support Vector Machines, Random Forests) and deep learning architectures (e.g., Convolutional Neural Networks, Recurrent Neural Networks like LSTM), to classify emotions based on extracted features.\n",
    "\n",
    "- **Emotion Classification**: Assigning one or multiple predefined emotion labels (e.g., happiness, sadness, anger, neutrality) to audio segments based on the analysis of extracted features and model pr\n",
    "future directions.\n",
    "edictions.\n"
   ]
  },
  {
   "cell_type": "markdown",
   "id": "86a9b89c-5976-4e93-96e6-5258ef696328",
   "metadata": {},
   "source": [
    "### RAVDESS Dataset Description\n",
    "\n",
    "The RAVDESS dataset contains 1440 audio files, structured as follows: 60 trials per actor multiplied by 24 actors, resulting in 1440 files. The dataset comprises recordings from 24 professional actors (12 female and 12 male), each vocalizing two lexically-matched statements in a neutral North American accent. The speech emotions included are calm, happy, sad, angry, fearful, surprise, and disgust, with each emotion expressed at two levels of emotional intensity (normal and strong), along with an additional neutral expression.\n",
    "\n",
    "#### File Naming Convention\n",
    "\n",
    "Each file in the dataset has a unique filename format: `03-01-06-01-02-01-12.wav`. Here's the breakdown of the filename identifiers:\n",
    "\n",
    "- **Modality**: `01` for full-AV (audiovisual), `02` for video-only, `03` for audio-only.\n",
    "- **Vocal Channel**: `01` for speech, `02` for song.\n",
    "- **Emotion**: \n",
    "  - `01` = neutral\n",
    "  - `02` = calm\n",
    "  - `03` = happy\n",
    "  - `04` = sad\n",
    "  - `05` = angry\n",
    "  - `06` = fearful\n",
    "  - `07` = disgust\n",
    "  - `08` = surprised\n",
    "- **Emotional Intensity**: `01` for normal, `02` for strong (Note: 'neutral' emotion has no strong intensity).\n",
    "- **Statement**: \n",
    "  - `01` = \"Kids are talking by the door\"\n",
    "  - `02` = \"Dogs are sitting by the door\"\n",
    "- **Repetition**: `01` for 1st repetition, `02` for 2nd repetition.\n",
    "- **Actor**: `01` to `24`. Odd-numbered actors are male, and even-numbered actors are female.\n",
    "\n",
    "#### Filename Example: `03-01-06-01-02-01-12.wav`\n",
    "\n",
    "- **Audio-only (03)**\n",
    "- **Speech (01)**\n",
    "- **Fearful (06)**\n",
    "- **Normal intensity (01)**\n",
    "- **Statement \"dogs\" (02)**\n",
    "- **1st Repetition (01)**\n",
    "- **12th Actor (12)** (Female, as the actor ID number is even)\n"
   ]
  },
  {
   "cell_type": "code",
   "execution_count": 3,
   "id": "6ce0fa5b-a908-4486-80c7-c07e46d98354",
   "metadata": {},
   "outputs": [],
   "source": [
    "# Define the path to your RAVDESS dataset\n",
    "DATASET_PATH = r'C:\\Users\\sarth\\Downloads\\voice'\n"
   ]
  },
  {
   "cell_type": "markdown",
   "id": "4a0f0509-02a2-44f9-8250-51518278af97",
   "metadata": {},
   "source": [
    "## DATA PREPROCESSING\n",
    "\n",
    "### Function to Load an Audio File\n",
    "\n",
    "The `load_audio` function loads an audio file from the specified `file_path` and returns the audio waveform and its sample rate (`sr`). It utilizes the `librosa` library for audio loading and handles exceptions if the file loading fails.\n",
    "\n",
    "### Function to Extract MFCC Features\n",
    "\n",
    "The `extract_mfcc` function extracts Mel-Frequency Cepstral Coefficients (MFCC) features from the audio data. MFCCs are commonly used in speech and audio processing to capture the spectral characteristics of sound. This function computes the MFCCs and returns their mean values across time (`axis=0`).\n",
    "\n",
    "### Dummy Function to Extract Label from Filename\n",
    "\n",
    "The `extract_label_from_filename` function extracts the emotional label from a given filename based on predefined mappings (`emotion_dict`). It parses the filename and retrieves the emotion label using the third part of the filename (which corresponds to the emotion identifier).\n",
    "\n",
    "#### Emotion Dictionary:\n",
    "- `'01': 'neutral'`\n",
    "- `'02': 'calm'`\n",
    "- `'03': 'happy'`\n",
    "- `'04': 'sad'`\n",
    "- `'05': 'angry'`\n",
    "- `'06': 'fearful'`\n",
    "- `'07': 'disgust'`\n",
    "- `'08': 'surprised'`\n",
    "\n",
    "This function is used to map numeric identifiers from filenames to human-readable emotional labels, facilitating the labeling of audio data during the processing pipeline.\n",
    "\n",
    "g the processing pipeline.\n",
    "\n",
    "coder`.\n"
   ]
  },
  {
   "cell_type": "code",
   "execution_count": 5,
   "id": "6810c70c-3f17-4f3a-8789-8bd848ba0cb4",
   "metadata": {},
   "outputs": [],
   "source": [
    "# Define the path to your RAVDESS dataset\n",
    "\n",
    "\n",
    "# Function to load an audio file\n",
    "def load_audio(file_path, sr=22050):\n",
    "    try:\n",
    "        audio, sample_rate = librosa.load(file_path, sr=sr)\n",
    "        return audio, sample_rate\n",
    "    except Exception as e:\n",
    "        print(f\"Error loading {file_path}: {e}\")\n",
    "        return None, None\n",
    "\n",
    "# Function to extract MFCC features\n",
    "def extract_mfcc(audio, sr, n_mfcc=40):\n",
    "    mfccs = np.mean(librosa.feature.mfcc(y=audio, sr=sr, n_mfcc=n_mfcc).T, axis=0)\n",
    "    return mfccs\n",
    "\n",
    "# Dummy function to extract label from filename\n",
    "def extract_label_from_filename(file_name):\n",
    "    emotion_dict = {\n",
    "        '01': 'neutral', '02': 'calm', '03': 'happy', '04': 'sad',\n",
    "        '05': 'angry', '06': 'fearful', '07': 'disgust', '08': 'surprised'\n",
    "    }\n",
    "    parts = file_name.split('-')\n",
    "    emotion_label = emotion_dict[parts[2]]\n",
    "    return emotion_label\n"
   ]
  },
  {
   "cell_type": "markdown",
   "id": "46240c96-c06b-4169-841b-19b0769faa72",
   "metadata": {},
   "source": [
    "## Loading and Processing Audio Dataset\n",
    "### Iterating Through Audio Files\n",
    "The code iterates through all `.wav` files located in the `DATASET_PATH` directory and its subdirectories using `os.walk`.\n",
    "### Extracting Features and Labels\n",
    "For each audio file:\n",
    "- **Label Extraction**: The label is extracted from the filename (`filename[7:8] - 1`). This assumes the label information is encoded in a specific position within the filename.  \n",
    "- **Loading Audio**: The `load_audio` function is called to load the audio file and obtain the audio waveform (`audio`) and its sampling rate (`sr`).\n",
    "- **Extracting MFCC Features**: If the audio loading is successful (`audio` is not `None`), the `extract_mfcc` function extracts Mel-Frequency Cepstral Coefficients (MFCC) features from the audio.\n",
    "- **Appending Features and Labels**: Extracted MFCC features (`mfcc_features`) and their corresponding labels (`label`) are appended to lists `X` and `y`, respectively.\n",
    "\n",
    "### Handling Errors\n",
    "\n",
    "- **Exception Handling**: If there is an error during any step (e.g., loading audio, extracting features), an error message is printed, and the file is skipped (`except Exception as e`).\n",
    "\n",
    "### Final Dataset Preparation\n",
    "\n",
    "- **Conversion to Numpy Arrays**: After processing all audio files, lists `X` and `y` are converted into NumPy arrays (`np.array(X)` and `np.array(y)`).\n",
    "\n"
   ]
  },
  {
   "cell_type": "code",
   "execution_count": 7,
   "id": "358a2d96-be6c-4cec-9140-a453d665180c",
   "metadata": {},
   "outputs": [
    {
     "name": "stdout",
     "output_type": "stream",
     "text": [
      "Finish Loading the Dataset\n",
      "X shape: (2880, 40)\n",
      "y shape: (2880,)\n"
     ]
    }
   ],
   "source": [
    "X=[]\n",
    "y=[]\n",
    "for dirname, _, filenames in os.walk(DATASET_PATH):\n",
    "    for filename in filenames:\n",
    "        if filename.endswith('.wav'):\n",
    "            try:\n",
    "                label = int(filename[7:8]) - 1  # Extract label from filename\n",
    "                wav_file_path = os.path.join(dirname, filename)\n",
    "                audio, sr = load_audio(wav_file_path)  # Load audio file\n",
    "                if audio is not None:\n",
    "                    mfcc_features = extract_mfcc(audio, sr)  # Extract MFCC features\n",
    "                    if mfcc_features is not None:\n",
    "                        X.append(mfcc_features)\n",
    "                        y.append(label)\n",
    "            except Exception as e:\n",
    "                print(f\"Error processing {filename}: {e}\")\n",
    "\n",
    "X = np.array(X)\n",
    "y = np.array(y)\n",
    "\n",
    "print(\"Finish Loading the Dataset\")\n",
    "print(\"X shape:\", X.shape)\n",
    "print(\"y shape:\", y.shape)"
   ]
  },
  {
   "cell_type": "code",
   "execution_count": 9,
   "id": "3262162d-2945-4c0a-8c22-533ad367ccf0",
   "metadata": {},
   "outputs": [
    {
     "data": {
      "text/plain": [
       "array([0, 0, 0, ..., 7, 7, 7])"
      ]
     },
     "execution_count": 9,
     "metadata": {},
     "output_type": "execute_result"
    }
   ],
   "source": [
    "y"
   ]
  },
  {
   "cell_type": "code",
   "execution_count": 11,
   "id": "3730f074-a59d-476d-88ca-1ab2695e38b2",
   "metadata": {},
   "outputs": [
    {
     "data": {
      "text/plain": [
       "array([[-6.9779260e+02,  5.4890041e+01,  6.6346520e-01, ...,\n",
       "        -1.7701062e+00, -3.5011320e+00, -1.5380874e+00],\n",
       "       [-6.9285577e+02,  5.5363899e+01, -1.5483192e+00, ...,\n",
       "        -3.0869722e+00, -3.2097483e+00, -2.3071594e+00],\n",
       "       [-6.9158789e+02,  5.8024662e+01,  1.5946463e-01, ...,\n",
       "        -2.7295372e+00, -3.5089064e+00, -2.2463746e+00],\n",
       "       ...,\n",
       "       [-5.4125165e+02,  2.9595709e+01, -1.8001362e+01, ...,\n",
       "        -3.8906682e-01, -9.7194743e-01, -3.9210208e-03],\n",
       "       [-4.9265253e+02,  2.3887981e+01, -6.0266590e+00, ...,\n",
       "         9.1637713e-01, -1.4326899e+00,  1.4300117e+00],\n",
       "       [-5.1798480e+02,  2.9571215e+01, -3.9096990e+00, ...,\n",
       "        -1.2455600e-01, -1.8519229e+00,  7.0855033e-01]], dtype=float32)"
      ]
     },
     "execution_count": 11,
     "metadata": {},
     "output_type": "execute_result"
    }
   ],
   "source": [
    "X"
   ]
  },
  {
   "cell_type": "code",
   "execution_count": 17,
   "id": "e345782b-935d-46d3-9a52-88cdcb3ed44c",
   "metadata": {},
   "outputs": [
    {
     "name": "stdout",
     "output_type": "stream",
     "text": [
      "[0 0 0 ... 7 7 7]\n",
      "[[1. 0. 0. ... 0. 0. 0.]\n",
      " [1. 0. 0. ... 0. 0. 0.]\n",
      " [1. 0. 0. ... 0. 0. 0.]\n",
      " ...\n",
      " [0. 0. 0. ... 0. 0. 1.]\n",
      " [0. 0. 0. ... 0. 0. 1.]\n",
      " [0. 0. 0. ... 0. 0. 1.]]\n"
     ]
    }
   ],
   "source": [
    "### Label Encoding\n",
    "label_encoder = LabelEncoder()\n",
    "y_encoded = label_encoder.fit_transform(y)\n",
    "print(y_encoded)\n",
    "##One_hot encoding\n",
    "y_cat=to_categorical (y_encoded)\n",
    "print(y_cat)"
   ]
  },
  {
   "cell_type": "markdown",
   "id": "c09420cf-a9a1-464e-969b-ebfcc3d828ae",
   "metadata": {},
   "source": [
    "## Train-Test Split"
   ]
  },
  {
   "cell_type": "code",
   "execution_count": 19,
   "id": "d25650c5-5681-4a24-ab42-380bb19f82a8",
   "metadata": {},
   "outputs": [
    {
     "name": "stdout",
     "output_type": "stream",
     "text": [
      "Training set size: 2304 samples\n",
      "Testing set size: 576 samples\n",
      "X_train shape: (2304, 40)\n",
      "X_test shape: (576, 40)\n"
     ]
    }
   ],
   "source": [
    "\n",
    "X_train, X_test, y_train, y_test = train_test_split(X, y_cat, test_size=0.2, random_state=9)\n",
    "\n",
    "# Print shapes to verify\n",
    "print(f\"Training set size: {X_train.shape[0]} samples\")\n",
    "print(f\"Testing set size: {X_test.shape[0]} samples\")\n",
    "print(f\"X_train shape: {X_train.shape}\")\n",
    "print(f\"X_test shape: {X_test.shape}\")\n"
   ]
  },
  {
   "cell_type": "code",
   "execution_count": 21,
   "id": "498fc255-2b1c-4ff8-afdf-7f5b8998dd16",
   "metadata": {},
   "outputs": [],
   "source": [
    "X_train = X_train[..., np.newaxis]\n",
    "X_test=X_test[...,np.newaxis]"
   ]
  },
  {
   "cell_type": "markdown",
   "id": "69089f82-0783-441b-9800-01dbb591fa75",
   "metadata": {},
   "source": [
    "# Conv1D Model for Emotion Recognition\n",
    "\n",
    "### Model Architecture\n",
    "\n",
    "The Conv1D model is designed to classify emotions based on audio features extracted using Mel-Frequency Cepstral Coefficients (MFCCs). The architecture consists of:\n",
    "\n",
    "- **Conv1D Layer**: The first layer has 64 filters with a kernel size of 3 and uses the ReLU activation function. It takes input with a shape corresponding to the MFCC feature dimensions.\n",
    "- **MaxPooling1D Layer**: This layer with a pool size of 2 reduces the dimensionality of the feature maps.\n",
    "- **Dropout Layer**: A dropout rate of 0.3 is used to prevent overfitting.\n",
    "- **Conv1D Layer**: The second Conv1D layer has 128 filters with a kernel size of 3 and uses the ReLU activation function.\n",
    "- **MaxPooling1D Layer**: Another pooling layer with a pool size of 2.\n",
    "- **Dropout Layer**: Another dropout layer with a rate of 0.3.\n",
    "- **Flatten Layer**: Flattens the feature maps into a single vector.\n",
    "- **Dense Layer**: A dense layer with 128 units and ReLU activation.\n",
    "- **Dropout Layer**: Dropout with a rate of 0.3.\n",
    "- **Output Layer**: A dense layer with a number of units equal to the number of emotion classes, using the softmax activation function to output probability distributions for each class.\n",
    "\n",
    "### Model Compilation\n",
    "\n",
    "The model is compiled using the Adam optimizer and categorical cross-entropy loss function, which is suitable for multi-class classification problems. The performance metric used is accuracy."
   ]
  },
  {
   "cell_type": "code",
   "execution_count": 23,
   "id": "04b67f11-b07f-42f9-9f23-73eb9b66ddfd",
   "metadata": {},
   "outputs": [
    {
     "name": "stderr",
     "output_type": "stream",
     "text": [
      "C:\\Users\\sarth\\anaconda3\\Lib\\site-packages\\keras\\src\\layers\\convolutional\\base_conv.py:107: UserWarning: Do not pass an `input_shape`/`input_dim` argument to a layer. When using Sequential models, prefer using an `Input(shape)` object as the first layer in the model instead.\n",
      "  super().__init__(activity_regularizer=activity_regularizer, **kwargs)\n"
     ]
    }
   ],
   "source": [
    "\n",
    "model = Sequential([\n",
    "    Conv1D(64, kernel_size=3, activation='relu', input_shape=(X.shape[1], 1)),\n",
    "    MaxPooling1D(pool_size=2),\n",
    "    Dropout(0.3),\n",
    "    Conv1D(128, kernel_size=3, activation='relu'),\n",
    "    MaxPooling1D(pool_size=2),\n",
    "    Dropout(0.3),\n",
    "    Flatten(),\n",
    "    Dense(128, activation='relu'),\n",
    "    Dropout(0.3),\n",
    "    Dense(len(label_encoder.classes_), activation='softmax')\n",
    "])\n",
    "\n",
    "# Compile the model\n",
    "model.compile(optimizer='adam', loss='categorical_crossentropy', metrics=['accuracy'])\n",
    "\n",
    "\n"
   ]
  },
  {
   "cell_type": "markdown",
   "id": "3d38d1f3-80a9-4343-af19-afcd416c0017",
   "metadata": {},
   "source": [
    "### Adding Channel Dimension for Conv1D\n",
    "\n",
    "In Conv1D neural networks, adding an additional channel dimension (`np.newaxis`) to input data like MFCC features (`X_train` and `X_test`) is essential. This adjustment ensures compatibility with Conv1D layers, which expect input shapes in the form `(batch_size, sequence_length, num_channels)`. The channel dimension allows Conv1D to effectively apply filters across the temporal dimension of the data, facilitating feature extraction and learning temporal patterns.\n"
   ]
  },
  {
   "cell_type": "code",
   "execution_count": 25,
   "id": "19484b99-108b-4a2f-8606-85eb8effeb41",
   "metadata": {},
   "outputs": [],
   "source": [
    "X_train = X_train[..., np.newaxis]\n",
    "X_test=X_test[...,np.newaxis]"
   ]
  },
  {
   "cell_type": "markdown",
   "id": "9d45be4e-fb81-4331-b40b-357490e9c6c5",
   "metadata": {},
   "source": [
    "### Training the Model\n",
    "\n",
    "The model is trained using the training data (`X_train` and `y_train`). The training process involves:\n",
    "\n",
    "- **Epochs**: The model is trained for 100 epochs.\n",
    "- **Batch Size**: A batch size of 32 is used for each training step.\n",
    "- **Validation Data**: The model's performance is validated on the validation set (`X_test` and `y_test`) during training to monitor and evaluate its accuracy and loss.\n"
   ]
  },
  {
   "cell_type": "code",
   "execution_count": 27,
   "id": "aee62dc0-cf5b-47b6-ab28-029e63ae9f21",
   "metadata": {},
   "outputs": [
    {
     "name": "stdout",
     "output_type": "stream",
     "text": [
      "Epoch 1/100\n",
      "\u001b[1m72/72\u001b[0m \u001b[32m━━━━━━━━━━━━━━━━━━━━\u001b[0m\u001b[37m\u001b[0m \u001b[1m5s\u001b[0m 17ms/step - accuracy: 0.1584 - loss: 7.1055 - val_accuracy: 0.2066 - val_loss: 2.0191\n",
      "Epoch 2/100\n",
      "\u001b[1m72/72\u001b[0m \u001b[32m━━━━━━━━━━━━━━━━━━━━\u001b[0m\u001b[37m\u001b[0m \u001b[1m1s\u001b[0m 9ms/step - accuracy: 0.1868 - loss: 2.0571 - val_accuracy: 0.2674 - val_loss: 1.9672\n",
      "Epoch 3/100\n",
      "\u001b[1m72/72\u001b[0m \u001b[32m━━━━━━━━━━━━━━━━━━━━\u001b[0m\u001b[37m\u001b[0m \u001b[1m1s\u001b[0m 9ms/step - accuracy: 0.2083 - loss: 1.9912 - val_accuracy: 0.3090 - val_loss: 1.8931\n",
      "Epoch 4/100\n",
      "\u001b[1m72/72\u001b[0m \u001b[32m━━━━━━━━━━━━━━━━━━━━\u001b[0m\u001b[37m\u001b[0m \u001b[1m1s\u001b[0m 9ms/step - accuracy: 0.2205 - loss: 1.9487 - val_accuracy: 0.2413 - val_loss: 1.8655\n",
      "Epoch 5/100\n",
      "\u001b[1m72/72\u001b[0m \u001b[32m━━━━━━━━━━━━━━━━━━━━\u001b[0m\u001b[37m\u001b[0m \u001b[1m1s\u001b[0m 9ms/step - accuracy: 0.2279 - loss: 1.9341 - val_accuracy: 0.2986 - val_loss: 1.8345\n",
      "Epoch 6/100\n",
      "\u001b[1m72/72\u001b[0m \u001b[32m━━━━━━━━━━━━━━━━━━━━\u001b[0m\u001b[37m\u001b[0m \u001b[1m1s\u001b[0m 9ms/step - accuracy: 0.2546 - loss: 1.9139 - val_accuracy: 0.2691 - val_loss: 1.8204\n",
      "Epoch 7/100\n",
      "\u001b[1m72/72\u001b[0m \u001b[32m━━━━━━━━━━━━━━━━━━━━\u001b[0m\u001b[37m\u001b[0m \u001b[1m1s\u001b[0m 9ms/step - accuracy: 0.2591 - loss: 1.8634 - val_accuracy: 0.3038 - val_loss: 1.8044\n",
      "Epoch 8/100\n",
      "\u001b[1m72/72\u001b[0m \u001b[32m━━━━━━━━━━━━━━━━━━━━\u001b[0m\u001b[37m\u001b[0m \u001b[1m1s\u001b[0m 9ms/step - accuracy: 0.2722 - loss: 1.8660 - val_accuracy: 0.3247 - val_loss: 1.7841\n",
      "Epoch 9/100\n",
      "\u001b[1m72/72\u001b[0m \u001b[32m━━━━━━━━━━━━━━━━━━━━\u001b[0m\u001b[37m\u001b[0m \u001b[1m1s\u001b[0m 9ms/step - accuracy: 0.2824 - loss: 1.8255 - val_accuracy: 0.3559 - val_loss: 1.7529\n",
      "Epoch 10/100\n",
      "\u001b[1m72/72\u001b[0m \u001b[32m━━━━━━━━━━━━━━━━━━━━\u001b[0m\u001b[37m\u001b[0m \u001b[1m1s\u001b[0m 8ms/step - accuracy: 0.3043 - loss: 1.8127 - val_accuracy: 0.3663 - val_loss: 1.7027\n",
      "Epoch 11/100\n",
      "\u001b[1m72/72\u001b[0m \u001b[32m━━━━━━━━━━━━━━━━━━━━\u001b[0m\u001b[37m\u001b[0m \u001b[1m1s\u001b[0m 8ms/step - accuracy: 0.3118 - loss: 1.7545 - val_accuracy: 0.3906 - val_loss: 1.6686\n",
      "Epoch 12/100\n",
      "\u001b[1m72/72\u001b[0m \u001b[32m━━━━━━━━━━━━━━━━━━━━\u001b[0m\u001b[37m\u001b[0m \u001b[1m1s\u001b[0m 9ms/step - accuracy: 0.3285 - loss: 1.7348 - val_accuracy: 0.4253 - val_loss: 1.6545\n",
      "Epoch 13/100\n",
      "\u001b[1m72/72\u001b[0m \u001b[32m━━━━━━━━━━━━━━━━━━━━\u001b[0m\u001b[37m\u001b[0m \u001b[1m1s\u001b[0m 8ms/step - accuracy: 0.3430 - loss: 1.6985 - val_accuracy: 0.4583 - val_loss: 1.5950\n",
      "Epoch 14/100\n",
      "\u001b[1m72/72\u001b[0m \u001b[32m━━━━━━━━━━━━━━━━━━━━\u001b[0m\u001b[37m\u001b[0m \u001b[1m1s\u001b[0m 9ms/step - accuracy: 0.3884 - loss: 1.6464 - val_accuracy: 0.4653 - val_loss: 1.5544\n",
      "Epoch 15/100\n",
      "\u001b[1m72/72\u001b[0m \u001b[32m━━━━━━━━━━━━━━━━━━━━\u001b[0m\u001b[37m\u001b[0m \u001b[1m1s\u001b[0m 9ms/step - accuracy: 0.3964 - loss: 1.5797 - val_accuracy: 0.4688 - val_loss: 1.4964\n",
      "Epoch 16/100\n",
      "\u001b[1m72/72\u001b[0m \u001b[32m━━━━━━━━━━━━━━━━━━━━\u001b[0m\u001b[37m\u001b[0m \u001b[1m1s\u001b[0m 8ms/step - accuracy: 0.3903 - loss: 1.5716 - val_accuracy: 0.4844 - val_loss: 1.4540\n",
      "Epoch 17/100\n",
      "\u001b[1m72/72\u001b[0m \u001b[32m━━━━━━━━━━━━━━━━━━━━\u001b[0m\u001b[37m\u001b[0m \u001b[1m1s\u001b[0m 9ms/step - accuracy: 0.4272 - loss: 1.5185 - val_accuracy: 0.4705 - val_loss: 1.3990\n",
      "Epoch 18/100\n",
      "\u001b[1m72/72\u001b[0m \u001b[32m━━━━━━━━━━━━━━━━━━━━\u001b[0m\u001b[37m\u001b[0m \u001b[1m1s\u001b[0m 8ms/step - accuracy: 0.4436 - loss: 1.5000 - val_accuracy: 0.4670 - val_loss: 1.3612\n",
      "Epoch 19/100\n",
      "\u001b[1m72/72\u001b[0m \u001b[32m━━━━━━━━━━━━━━━━━━━━\u001b[0m\u001b[37m\u001b[0m \u001b[1m1s\u001b[0m 9ms/step - accuracy: 0.4657 - loss: 1.4726 - val_accuracy: 0.5208 - val_loss: 1.3315\n",
      "Epoch 20/100\n",
      "\u001b[1m72/72\u001b[0m \u001b[32m━━━━━━━━━━━━━━━━━━━━\u001b[0m\u001b[37m\u001b[0m \u001b[1m1s\u001b[0m 8ms/step - accuracy: 0.4702 - loss: 1.4069 - val_accuracy: 0.5486 - val_loss: 1.2705\n",
      "Epoch 21/100\n",
      "\u001b[1m72/72\u001b[0m \u001b[32m━━━━━━━━━━━━━━━━━━━━\u001b[0m\u001b[37m\u001b[0m \u001b[1m1s\u001b[0m 9ms/step - accuracy: 0.4862 - loss: 1.3553 - val_accuracy: 0.5382 - val_loss: 1.2462\n",
      "Epoch 22/100\n",
      "\u001b[1m72/72\u001b[0m \u001b[32m━━━━━━━━━━━━━━━━━━━━\u001b[0m\u001b[37m\u001b[0m \u001b[1m1s\u001b[0m 8ms/step - accuracy: 0.5009 - loss: 1.3181 - val_accuracy: 0.5694 - val_loss: 1.1888\n",
      "Epoch 23/100\n",
      "\u001b[1m72/72\u001b[0m \u001b[32m━━━━━━━━━━━━━━━━━━━━\u001b[0m\u001b[37m\u001b[0m \u001b[1m1s\u001b[0m 8ms/step - accuracy: 0.5031 - loss: 1.3369 - val_accuracy: 0.5799 - val_loss: 1.1654\n",
      "Epoch 24/100\n",
      "\u001b[1m72/72\u001b[0m \u001b[32m━━━━━━━━━━━━━━━━━━━━\u001b[0m\u001b[37m\u001b[0m \u001b[1m1s\u001b[0m 9ms/step - accuracy: 0.5302 - loss: 1.2548 - val_accuracy: 0.6111 - val_loss: 1.0980\n",
      "Epoch 25/100\n",
      "\u001b[1m72/72\u001b[0m \u001b[32m━━━━━━━━━━━━━━━━━━━━\u001b[0m\u001b[37m\u001b[0m \u001b[1m1s\u001b[0m 8ms/step - accuracy: 0.5379 - loss: 1.2372 - val_accuracy: 0.6076 - val_loss: 1.1002\n",
      "Epoch 26/100\n",
      "\u001b[1m72/72\u001b[0m \u001b[32m━━━━━━━━━━━━━━━━━━━━\u001b[0m\u001b[37m\u001b[0m \u001b[1m1s\u001b[0m 8ms/step - accuracy: 0.5294 - loss: 1.2094 - val_accuracy: 0.6233 - val_loss: 1.0840\n",
      "Epoch 27/100\n",
      "\u001b[1m72/72\u001b[0m \u001b[32m━━━━━━━━━━━━━━━━━━━━\u001b[0m\u001b[37m\u001b[0m \u001b[1m1s\u001b[0m 9ms/step - accuracy: 0.5745 - loss: 1.1552 - val_accuracy: 0.6181 - val_loss: 1.0402\n",
      "Epoch 28/100\n",
      "\u001b[1m72/72\u001b[0m \u001b[32m━━━━━━━━━━━━━━━━━━━━\u001b[0m\u001b[37m\u001b[0m \u001b[1m1s\u001b[0m 9ms/step - accuracy: 0.5775 - loss: 1.1146 - val_accuracy: 0.6528 - val_loss: 0.9815\n",
      "Epoch 29/100\n",
      "\u001b[1m72/72\u001b[0m \u001b[32m━━━━━━━━━━━━━━━━━━━━\u001b[0m\u001b[37m\u001b[0m \u001b[1m1s\u001b[0m 9ms/step - accuracy: 0.6164 - loss: 1.0323 - val_accuracy: 0.6597 - val_loss: 0.9902\n",
      "Epoch 30/100\n",
      "\u001b[1m72/72\u001b[0m \u001b[32m━━━━━━━━━━━━━━━━━━━━\u001b[0m\u001b[37m\u001b[0m \u001b[1m1s\u001b[0m 8ms/step - accuracy: 0.6110 - loss: 1.0493 - val_accuracy: 0.6806 - val_loss: 0.9458\n",
      "Epoch 31/100\n",
      "\u001b[1m72/72\u001b[0m \u001b[32m━━━━━━━━━━━━━━━━━━━━\u001b[0m\u001b[37m\u001b[0m \u001b[1m1s\u001b[0m 8ms/step - accuracy: 0.6292 - loss: 1.0339 - val_accuracy: 0.6806 - val_loss: 0.8984\n",
      "Epoch 32/100\n",
      "\u001b[1m72/72\u001b[0m \u001b[32m━━━━━━━━━━━━━━━━━━━━\u001b[0m\u001b[37m\u001b[0m \u001b[1m1s\u001b[0m 9ms/step - accuracy: 0.6091 - loss: 1.0228 - val_accuracy: 0.7101 - val_loss: 0.8495\n",
      "Epoch 33/100\n",
      "\u001b[1m72/72\u001b[0m \u001b[32m━━━━━━━━━━━━━━━━━━━━\u001b[0m\u001b[37m\u001b[0m \u001b[1m1s\u001b[0m 9ms/step - accuracy: 0.6353 - loss: 0.9605 - val_accuracy: 0.7205 - val_loss: 0.8314\n",
      "Epoch 34/100\n",
      "\u001b[1m72/72\u001b[0m \u001b[32m━━━━━━━━━━━━━━━━━━━━\u001b[0m\u001b[37m\u001b[0m \u001b[1m1s\u001b[0m 9ms/step - accuracy: 0.6479 - loss: 0.9660 - val_accuracy: 0.7413 - val_loss: 0.7702\n",
      "Epoch 35/100\n",
      "\u001b[1m72/72\u001b[0m \u001b[32m━━━━━━━━━━━━━━━━━━━━\u001b[0m\u001b[37m\u001b[0m \u001b[1m1s\u001b[0m 8ms/step - accuracy: 0.6599 - loss: 0.9094 - val_accuracy: 0.7361 - val_loss: 0.7797\n",
      "Epoch 36/100\n",
      "\u001b[1m72/72\u001b[0m \u001b[32m━━━━━━━━━━━━━━━━━━━━\u001b[0m\u001b[37m\u001b[0m \u001b[1m1s\u001b[0m 8ms/step - accuracy: 0.6868 - loss: 0.8417 - val_accuracy: 0.7431 - val_loss: 0.7712\n",
      "Epoch 37/100\n",
      "\u001b[1m72/72\u001b[0m \u001b[32m━━━━━━━━━━━━━━━━━━━━\u001b[0m\u001b[37m\u001b[0m \u001b[1m1s\u001b[0m 8ms/step - accuracy: 0.6975 - loss: 0.8288 - val_accuracy: 0.7587 - val_loss: 0.7205\n",
      "Epoch 38/100\n",
      "\u001b[1m72/72\u001b[0m \u001b[32m━━━━━━━━━━━━━━━━━━━━\u001b[0m\u001b[37m\u001b[0m \u001b[1m1s\u001b[0m 8ms/step - accuracy: 0.6998 - loss: 0.8198 - val_accuracy: 0.7708 - val_loss: 0.7043\n",
      "Epoch 39/100\n",
      "\u001b[1m72/72\u001b[0m \u001b[32m━━━━━━━━━━━━━━━━━━━━\u001b[0m\u001b[37m\u001b[0m \u001b[1m1s\u001b[0m 8ms/step - accuracy: 0.7023 - loss: 0.8122 - val_accuracy: 0.7778 - val_loss: 0.6947\n",
      "Epoch 40/100\n",
      "\u001b[1m72/72\u001b[0m \u001b[32m━━━━━━━━━━━━━━━━━━━━\u001b[0m\u001b[37m\u001b[0m \u001b[1m1s\u001b[0m 8ms/step - accuracy: 0.7344 - loss: 0.7817 - val_accuracy: 0.7899 - val_loss: 0.6668\n",
      "Epoch 41/100\n",
      "\u001b[1m72/72\u001b[0m \u001b[32m━━━━━━━━━━━━━━━━━━━━\u001b[0m\u001b[37m\u001b[0m \u001b[1m1s\u001b[0m 9ms/step - accuracy: 0.7140 - loss: 0.7944 - val_accuracy: 0.7847 - val_loss: 0.6586\n",
      "Epoch 42/100\n",
      "\u001b[1m72/72\u001b[0m \u001b[32m━━━━━━━━━━━━━━━━━━━━\u001b[0m\u001b[37m\u001b[0m \u001b[1m1s\u001b[0m 8ms/step - accuracy: 0.7364 - loss: 0.7318 - val_accuracy: 0.7917 - val_loss: 0.6253\n",
      "Epoch 43/100\n",
      "\u001b[1m72/72\u001b[0m \u001b[32m━━━━━━━━━━━━━━━━━━━━\u001b[0m\u001b[37m\u001b[0m \u001b[1m1s\u001b[0m 8ms/step - accuracy: 0.7433 - loss: 0.7100 - val_accuracy: 0.8229 - val_loss: 0.5918\n",
      "Epoch 44/100\n",
      "\u001b[1m72/72\u001b[0m \u001b[32m━━━━━━━━━━━━━━━━━━━━\u001b[0m\u001b[37m\u001b[0m \u001b[1m1s\u001b[0m 8ms/step - accuracy: 0.7576 - loss: 0.6844 - val_accuracy: 0.7986 - val_loss: 0.5704\n",
      "Epoch 45/100\n",
      "\u001b[1m72/72\u001b[0m \u001b[32m━━━━━━━━━━━━━━━━━━━━\u001b[0m\u001b[37m\u001b[0m \u001b[1m1s\u001b[0m 8ms/step - accuracy: 0.7436 - loss: 0.6972 - val_accuracy: 0.8333 - val_loss: 0.5419\n",
      "Epoch 46/100\n",
      "\u001b[1m72/72\u001b[0m \u001b[32m━━━━━━━━━━━━━━━━━━━━\u001b[0m\u001b[37m\u001b[0m \u001b[1m1s\u001b[0m 8ms/step - accuracy: 0.7462 - loss: 0.6808 - val_accuracy: 0.8229 - val_loss: 0.5432\n",
      "Epoch 47/100\n",
      "\u001b[1m72/72\u001b[0m \u001b[32m━━━━━━━━━━━━━━━━━━━━\u001b[0m\u001b[37m\u001b[0m \u001b[1m1s\u001b[0m 8ms/step - accuracy: 0.7572 - loss: 0.6777 - val_accuracy: 0.8281 - val_loss: 0.5563\n",
      "Epoch 48/100\n",
      "\u001b[1m72/72\u001b[0m \u001b[32m━━━━━━━━━━━━━━━━━━━━\u001b[0m\u001b[37m\u001b[0m \u001b[1m1s\u001b[0m 9ms/step - accuracy: 0.7596 - loss: 0.6467 - val_accuracy: 0.8160 - val_loss: 0.5191\n",
      "Epoch 49/100\n",
      "\u001b[1m72/72\u001b[0m \u001b[32m━━━━━━━━━━━━━━━━━━━━\u001b[0m\u001b[37m\u001b[0m \u001b[1m1s\u001b[0m 9ms/step - accuracy: 0.7634 - loss: 0.6352 - val_accuracy: 0.8351 - val_loss: 0.5240\n",
      "Epoch 50/100\n",
      "\u001b[1m72/72\u001b[0m \u001b[32m━━━━━━━━━━━━━━━━━━━━\u001b[0m\u001b[37m\u001b[0m \u001b[1m1s\u001b[0m 8ms/step - accuracy: 0.7770 - loss: 0.6286 - val_accuracy: 0.8576 - val_loss: 0.4987\n",
      "Epoch 51/100\n",
      "\u001b[1m72/72\u001b[0m \u001b[32m━━━━━━━━━━━━━━━━━━━━\u001b[0m\u001b[37m\u001b[0m \u001b[1m1s\u001b[0m 9ms/step - accuracy: 0.7842 - loss: 0.6260 - val_accuracy: 0.8524 - val_loss: 0.5019\n",
      "Epoch 52/100\n",
      "\u001b[1m72/72\u001b[0m \u001b[32m━━━━━━━━━━━━━━━━━━━━\u001b[0m\u001b[37m\u001b[0m \u001b[1m1s\u001b[0m 9ms/step - accuracy: 0.7847 - loss: 0.6137 - val_accuracy: 0.8559 - val_loss: 0.4651\n",
      "Epoch 53/100\n",
      "\u001b[1m72/72\u001b[0m \u001b[32m━━━━━━━━━━━━━━━━━━━━\u001b[0m\u001b[37m\u001b[0m \u001b[1m1s\u001b[0m 9ms/step - accuracy: 0.7886 - loss: 0.5805 - val_accuracy: 0.8628 - val_loss: 0.4732\n",
      "Epoch 54/100\n",
      "\u001b[1m72/72\u001b[0m \u001b[32m━━━━━━━━━━━━━━━━━━━━\u001b[0m\u001b[37m\u001b[0m \u001b[1m1s\u001b[0m 9ms/step - accuracy: 0.8067 - loss: 0.5930 - val_accuracy: 0.8837 - val_loss: 0.4322\n",
      "Epoch 55/100\n",
      "\u001b[1m72/72\u001b[0m \u001b[32m━━━━━━━━━━━━━━━━━━━━\u001b[0m\u001b[37m\u001b[0m \u001b[1m1s\u001b[0m 9ms/step - accuracy: 0.8056 - loss: 0.5262 - val_accuracy: 0.8715 - val_loss: 0.4367\n",
      "Epoch 56/100\n",
      "\u001b[1m72/72\u001b[0m \u001b[32m━━━━━━━━━━━━━━━━━━━━\u001b[0m\u001b[37m\u001b[0m \u001b[1m1s\u001b[0m 9ms/step - accuracy: 0.8032 - loss: 0.5431 - val_accuracy: 0.8785 - val_loss: 0.4153\n",
      "Epoch 57/100\n",
      "\u001b[1m72/72\u001b[0m \u001b[32m━━━━━━━━━━━━━━━━━━━━\u001b[0m\u001b[37m\u001b[0m \u001b[1m1s\u001b[0m 8ms/step - accuracy: 0.8225 - loss: 0.5291 - val_accuracy: 0.8611 - val_loss: 0.4285\n",
      "Epoch 58/100\n",
      "\u001b[1m72/72\u001b[0m \u001b[32m━━━━━━━━━━━━━━━━━━━━\u001b[0m\u001b[37m\u001b[0m \u001b[1m1s\u001b[0m 8ms/step - accuracy: 0.8223 - loss: 0.5126 - val_accuracy: 0.8767 - val_loss: 0.4025\n",
      "Epoch 59/100\n",
      "\u001b[1m72/72\u001b[0m \u001b[32m━━━━━━━━━━━━━━━━━━━━\u001b[0m\u001b[37m\u001b[0m \u001b[1m1s\u001b[0m 8ms/step - accuracy: 0.8212 - loss: 0.5070 - val_accuracy: 0.8733 - val_loss: 0.4010\n",
      "Epoch 60/100\n",
      "\u001b[1m72/72\u001b[0m \u001b[32m━━━━━━━━━━━━━━━━━━━━\u001b[0m\u001b[37m\u001b[0m \u001b[1m1s\u001b[0m 8ms/step - accuracy: 0.8283 - loss: 0.4914 - val_accuracy: 0.8715 - val_loss: 0.4245\n",
      "Epoch 61/100\n",
      "\u001b[1m72/72\u001b[0m \u001b[32m━━━━━━━━━━━━━━━━━━━━\u001b[0m\u001b[37m\u001b[0m \u001b[1m1s\u001b[0m 8ms/step - accuracy: 0.8247 - loss: 0.5107 - val_accuracy: 0.8819 - val_loss: 0.3962\n",
      "Epoch 62/100\n",
      "\u001b[1m72/72\u001b[0m \u001b[32m━━━━━━━━━━━━━━━━━━━━\u001b[0m\u001b[37m\u001b[0m \u001b[1m1s\u001b[0m 9ms/step - accuracy: 0.8191 - loss: 0.4944 - val_accuracy: 0.8681 - val_loss: 0.4195\n",
      "Epoch 63/100\n",
      "\u001b[1m72/72\u001b[0m \u001b[32m━━━━━━━━━━━━━━━━━━━━\u001b[0m\u001b[37m\u001b[0m \u001b[1m1s\u001b[0m 9ms/step - accuracy: 0.8267 - loss: 0.4741 - val_accuracy: 0.8785 - val_loss: 0.4182\n",
      "Epoch 64/100\n",
      "\u001b[1m72/72\u001b[0m \u001b[32m━━━━━━━━━━━━━━━━━━━━\u001b[0m\u001b[37m\u001b[0m \u001b[1m1s\u001b[0m 9ms/step - accuracy: 0.8299 - loss: 0.4682 - val_accuracy: 0.8785 - val_loss: 0.4161\n",
      "Epoch 65/100\n",
      "\u001b[1m72/72\u001b[0m \u001b[32m━━━━━━━━━━━━━━━━━━━━\u001b[0m\u001b[37m\u001b[0m \u001b[1m1s\u001b[0m 8ms/step - accuracy: 0.8178 - loss: 0.4903 - val_accuracy: 0.8906 - val_loss: 0.3686\n",
      "Epoch 66/100\n",
      "\u001b[1m72/72\u001b[0m \u001b[32m━━━━━━━━━━━━━━━━━━━━\u001b[0m\u001b[37m\u001b[0m \u001b[1m1s\u001b[0m 9ms/step - accuracy: 0.8079 - loss: 0.5066 - val_accuracy: 0.8906 - val_loss: 0.3555\n",
      "Epoch 67/100\n",
      "\u001b[1m72/72\u001b[0m \u001b[32m━━━━━━━━━━━━━━━━━━━━\u001b[0m\u001b[37m\u001b[0m \u001b[1m1s\u001b[0m 8ms/step - accuracy: 0.8600 - loss: 0.4128 - val_accuracy: 0.8941 - val_loss: 0.3633\n",
      "Epoch 68/100\n",
      "\u001b[1m72/72\u001b[0m \u001b[32m━━━━━━━━━━━━━━━━━━━━\u001b[0m\u001b[37m\u001b[0m \u001b[1m1s\u001b[0m 8ms/step - accuracy: 0.8346 - loss: 0.4838 - val_accuracy: 0.8924 - val_loss: 0.3380\n",
      "Epoch 69/100\n",
      "\u001b[1m72/72\u001b[0m \u001b[32m━━━━━━━━━━━━━━━━━━━━\u001b[0m\u001b[37m\u001b[0m \u001b[1m1s\u001b[0m 9ms/step - accuracy: 0.8340 - loss: 0.4621 - val_accuracy: 0.8941 - val_loss: 0.3409\n",
      "Epoch 70/100\n",
      "\u001b[1m72/72\u001b[0m \u001b[32m━━━━━━━━━━━━━━━━━━━━\u001b[0m\u001b[37m\u001b[0m \u001b[1m1s\u001b[0m 8ms/step - accuracy: 0.8338 - loss: 0.4392 - val_accuracy: 0.9080 - val_loss: 0.3517\n",
      "Epoch 71/100\n",
      "\u001b[1m72/72\u001b[0m \u001b[32m━━━━━━━━━━━━━━━━━━━━\u001b[0m\u001b[37m\u001b[0m \u001b[1m1s\u001b[0m 9ms/step - accuracy: 0.8536 - loss: 0.4100 - val_accuracy: 0.8976 - val_loss: 0.3375\n",
      "Epoch 72/100\n",
      "\u001b[1m72/72\u001b[0m \u001b[32m━━━━━━━━━━━━━━━━━━━━\u001b[0m\u001b[37m\u001b[0m \u001b[1m1s\u001b[0m 9ms/step - accuracy: 0.8544 - loss: 0.4086 - val_accuracy: 0.9080 - val_loss: 0.3212\n",
      "Epoch 73/100\n",
      "\u001b[1m72/72\u001b[0m \u001b[32m━━━━━━━━━━━━━━━━━━━━\u001b[0m\u001b[37m\u001b[0m \u001b[1m1s\u001b[0m 8ms/step - accuracy: 0.8537 - loss: 0.4127 - val_accuracy: 0.9010 - val_loss: 0.3171\n",
      "Epoch 74/100\n",
      "\u001b[1m72/72\u001b[0m \u001b[32m━━━━━━━━━━━━━━━━━━━━\u001b[0m\u001b[37m\u001b[0m \u001b[1m1s\u001b[0m 8ms/step - accuracy: 0.8473 - loss: 0.4421 - val_accuracy: 0.9149 - val_loss: 0.3437\n",
      "Epoch 75/100\n",
      "\u001b[1m72/72\u001b[0m \u001b[32m━━━━━━━━━━━━━━━━━━━━\u001b[0m\u001b[37m\u001b[0m \u001b[1m1s\u001b[0m 9ms/step - accuracy: 0.8487 - loss: 0.4176 - val_accuracy: 0.9010 - val_loss: 0.3388\n",
      "Epoch 76/100\n",
      "\u001b[1m72/72\u001b[0m \u001b[32m━━━━━━━━━━━━━━━━━━━━\u001b[0m\u001b[37m\u001b[0m \u001b[1m1s\u001b[0m 9ms/step - accuracy: 0.8707 - loss: 0.3803 - val_accuracy: 0.9010 - val_loss: 0.3411\n",
      "Epoch 77/100\n",
      "\u001b[1m72/72\u001b[0m \u001b[32m━━━━━━━━━━━━━━━━━━━━\u001b[0m\u001b[37m\u001b[0m \u001b[1m1s\u001b[0m 9ms/step - accuracy: 0.8597 - loss: 0.3778 - val_accuracy: 0.9062 - val_loss: 0.2959\n",
      "Epoch 78/100\n",
      "\u001b[1m72/72\u001b[0m \u001b[32m━━━━━━━━━━━━━━━━━━━━\u001b[0m\u001b[37m\u001b[0m \u001b[1m1s\u001b[0m 8ms/step - accuracy: 0.8604 - loss: 0.3713 - val_accuracy: 0.8993 - val_loss: 0.3092\n",
      "Epoch 79/100\n",
      "\u001b[1m72/72\u001b[0m \u001b[32m━━━━━━━━━━━━━━━━━━━━\u001b[0m\u001b[37m\u001b[0m \u001b[1m1s\u001b[0m 9ms/step - accuracy: 0.8642 - loss: 0.3687 - val_accuracy: 0.9167 - val_loss: 0.2794\n",
      "Epoch 80/100\n",
      "\u001b[1m72/72\u001b[0m \u001b[32m━━━━━━━━━━━━━━━━━━━━\u001b[0m\u001b[37m\u001b[0m \u001b[1m1s\u001b[0m 8ms/step - accuracy: 0.8684 - loss: 0.3716 - val_accuracy: 0.9236 - val_loss: 0.2719\n",
      "Epoch 81/100\n",
      "\u001b[1m72/72\u001b[0m \u001b[32m━━━━━━━━━━━━━━━━━━━━\u001b[0m\u001b[37m\u001b[0m \u001b[1m1s\u001b[0m 8ms/step - accuracy: 0.8776 - loss: 0.3496 - val_accuracy: 0.9028 - val_loss: 0.3065\n",
      "Epoch 82/100\n",
      "\u001b[1m72/72\u001b[0m \u001b[32m━━━━━━━━━━━━━━━━━━━━\u001b[0m\u001b[37m\u001b[0m \u001b[1m1s\u001b[0m 8ms/step - accuracy: 0.8751 - loss: 0.3466 - val_accuracy: 0.9306 - val_loss: 0.2792\n",
      "Epoch 83/100\n",
      "\u001b[1m72/72\u001b[0m \u001b[32m━━━━━━━━━━━━━━━━━━━━\u001b[0m\u001b[37m\u001b[0m \u001b[1m1s\u001b[0m 8ms/step - accuracy: 0.8767 - loss: 0.3553 - val_accuracy: 0.9323 - val_loss: 0.2665\n",
      "Epoch 84/100\n",
      "\u001b[1m72/72\u001b[0m \u001b[32m━━━━━━━━━━━━━━━━━━━━\u001b[0m\u001b[37m\u001b[0m \u001b[1m1s\u001b[0m 9ms/step - accuracy: 0.8738 - loss: 0.3514 - val_accuracy: 0.9149 - val_loss: 0.2724\n",
      "Epoch 85/100\n",
      "\u001b[1m72/72\u001b[0m \u001b[32m━━━━━━━━━━━━━━━━━━━━\u001b[0m\u001b[37m\u001b[0m \u001b[1m1s\u001b[0m 8ms/step - accuracy: 0.8841 - loss: 0.3337 - val_accuracy: 0.9306 - val_loss: 0.2552\n",
      "Epoch 86/100\n",
      "\u001b[1m72/72\u001b[0m \u001b[32m━━━━━━━━━━━━━━━━━━━━\u001b[0m\u001b[37m\u001b[0m \u001b[1m1s\u001b[0m 8ms/step - accuracy: 0.9001 - loss: 0.2890 - val_accuracy: 0.9219 - val_loss: 0.2443\n",
      "Epoch 87/100\n",
      "\u001b[1m72/72\u001b[0m \u001b[32m━━━━━━━━━━━━━━━━━━━━\u001b[0m\u001b[37m\u001b[0m \u001b[1m1s\u001b[0m 8ms/step - accuracy: 0.8689 - loss: 0.3376 - val_accuracy: 0.9201 - val_loss: 0.2648\n",
      "Epoch 88/100\n",
      "\u001b[1m72/72\u001b[0m \u001b[32m━━━━━━━━━━━━━━━━━━━━\u001b[0m\u001b[37m\u001b[0m \u001b[1m1s\u001b[0m 9ms/step - accuracy: 0.8964 - loss: 0.3244 - val_accuracy: 0.9132 - val_loss: 0.2859\n",
      "Epoch 89/100\n",
      "\u001b[1m72/72\u001b[0m \u001b[32m━━━━━━━━━━━━━━━━━━━━\u001b[0m\u001b[37m\u001b[0m \u001b[1m1s\u001b[0m 8ms/step - accuracy: 0.8894 - loss: 0.3308 - val_accuracy: 0.9167 - val_loss: 0.2735\n",
      "Epoch 90/100\n",
      "\u001b[1m72/72\u001b[0m \u001b[32m━━━━━━━━━━━━━━━━━━━━\u001b[0m\u001b[37m\u001b[0m \u001b[1m1s\u001b[0m 8ms/step - accuracy: 0.8830 - loss: 0.3325 - val_accuracy: 0.9184 - val_loss: 0.2731\n",
      "Epoch 91/100\n",
      "\u001b[1m72/72\u001b[0m \u001b[32m━━━━━━━━━━━━━━━━━━━━\u001b[0m\u001b[37m\u001b[0m \u001b[1m1s\u001b[0m 9ms/step - accuracy: 0.9071 - loss: 0.2887 - val_accuracy: 0.9149 - val_loss: 0.2782\n",
      "Epoch 92/100\n",
      "\u001b[1m72/72\u001b[0m \u001b[32m━━━━━━━━━━━━━━━━━━━━\u001b[0m\u001b[37m\u001b[0m \u001b[1m1s\u001b[0m 9ms/step - accuracy: 0.9027 - loss: 0.2989 - val_accuracy: 0.9097 - val_loss: 0.2718\n",
      "Epoch 93/100\n",
      "\u001b[1m72/72\u001b[0m \u001b[32m━━━━━━━━━━━━━━━━━━━━\u001b[0m\u001b[37m\u001b[0m \u001b[1m1s\u001b[0m 9ms/step - accuracy: 0.9051 - loss: 0.3086 - val_accuracy: 0.9253 - val_loss: 0.2596\n",
      "Epoch 94/100\n",
      "\u001b[1m72/72\u001b[0m \u001b[32m━━━━━━━━━━━━━━━━━━━━\u001b[0m\u001b[37m\u001b[0m \u001b[1m1s\u001b[0m 8ms/step - accuracy: 0.8818 - loss: 0.3242 - val_accuracy: 0.9167 - val_loss: 0.2737\n",
      "Epoch 95/100\n",
      "\u001b[1m72/72\u001b[0m \u001b[32m━━━━━━━━━━━━━━━━━━━━\u001b[0m\u001b[37m\u001b[0m \u001b[1m1s\u001b[0m 8ms/step - accuracy: 0.8944 - loss: 0.2978 - val_accuracy: 0.8976 - val_loss: 0.2647\n",
      "Epoch 96/100\n",
      "\u001b[1m72/72\u001b[0m \u001b[32m━━━━━━━━━━━━━━━━━━━━\u001b[0m\u001b[37m\u001b[0m \u001b[1m1s\u001b[0m 9ms/step - accuracy: 0.9008 - loss: 0.2823 - val_accuracy: 0.9149 - val_loss: 0.2621\n",
      "Epoch 97/100\n",
      "\u001b[1m72/72\u001b[0m \u001b[32m━━━━━━━━━━━━━━━━━━━━\u001b[0m\u001b[37m\u001b[0m \u001b[1m1s\u001b[0m 9ms/step - accuracy: 0.9001 - loss: 0.2809 - val_accuracy: 0.9253 - val_loss: 0.2483\n",
      "Epoch 98/100\n",
      "\u001b[1m72/72\u001b[0m \u001b[32m━━━━━━━━━━━━━━━━━━━━\u001b[0m\u001b[37m\u001b[0m \u001b[1m1s\u001b[0m 9ms/step - accuracy: 0.8884 - loss: 0.3148 - val_accuracy: 0.9236 - val_loss: 0.2605\n",
      "Epoch 99/100\n",
      "\u001b[1m72/72\u001b[0m \u001b[32m━━━━━━━━━━━━━━━━━━━━\u001b[0m\u001b[37m\u001b[0m \u001b[1m1s\u001b[0m 9ms/step - accuracy: 0.8954 - loss: 0.2807 - val_accuracy: 0.9201 - val_loss: 0.2561\n",
      "Epoch 100/100\n",
      "\u001b[1m72/72\u001b[0m \u001b[32m━━━━━━━━━━━━━━━━━━━━\u001b[0m\u001b[37m\u001b[0m \u001b[1m1s\u001b[0m 8ms/step - accuracy: 0.9045 - loss: 0.2668 - val_accuracy: 0.9184 - val_loss: 0.2856\n"
     ]
    }
   ],
   "source": [
    "\n",
    "history = model.fit(X_train, y_train, epochs=100, batch_size=32, validation_data=(X_test, y_test))"
   ]
  },
  {
   "cell_type": "markdown",
   "id": "669a85fe-8a7b-438c-8524-ae3ccec2be1f",
   "metadata": {},
   "source": [
    "### Model Evaluation\n",
    "\n",
    "After training, the model is evaluated on the test set to determine its final accuracy. The test accuracy provides an indication of how well the model generalizes to unseen data."
   ]
  },
  {
   "cell_type": "code",
   "execution_count": 29,
   "id": "6141387a-448a-4ba5-a8c3-0957658002b3",
   "metadata": {},
   "outputs": [
    {
     "name": "stdout",
     "output_type": "stream",
     "text": [
      "\u001b[1m18/18\u001b[0m \u001b[32m━━━━━━━━━━━━━━━━━━━━\u001b[0m\u001b[37m\u001b[0m \u001b[1m0s\u001b[0m 5ms/step - accuracy: 0.9168 - loss: 0.3103\n",
      "Test accuracy: 0.9184027910232544\n",
      "\u001b[1m18/18\u001b[0m \u001b[32m━━━━━━━━━━━━━━━━━━━━\u001b[0m\u001b[37m\u001b[0m \u001b[1m0s\u001b[0m 5ms/step\n",
      "True label: 5, Predicted label: 5\n",
      "True label: 2, Predicted label: 2\n",
      "True label: 3, Predicted label: 3\n",
      "True label: 1, Predicted label: 1\n",
      "True label: 1, Predicted label: 1\n",
      "True label: 1, Predicted label: 1\n",
      "True label: 7, Predicted label: 7\n",
      "True label: 0, Predicted label: 0\n",
      "True label: 3, Predicted label: 1\n",
      "True label: 2, Predicted label: 2\n"
     ]
    }
   ],
   "source": [
    "\n",
    "test_loss, test_acc = model.evaluate(X_test, y_test)\n",
    "print(f\"Test accuracy: {test_acc}\")\n",
    "predictions = model.predict(X_test)\n",
    "predicted_labels = np.argmax(predictions, axis=1)\n",
    "true_labels = np.argmax(y_test, axis=1)\n",
    "\n",
    "# Print some predictions\n",
    "for i in range(10):\n",
    "    print(f\"True label: {true_labels[i]}, Predicted label: {predicted_labels[i]}\")\n"
   ]
  },
  {
   "cell_type": "markdown",
   "id": "8c2536e4-e80a-4168-9cd4-6da3ff687b49",
   "metadata": {},
   "source": [
    "\n",
    "# Model Training and Test Accuracy\n",
    "\n",
    "The following plot shows the accuracy of the Conv1D model over 100 epochs for both the training and test datasets.ndt)\n",
    "\n",
    "### Description\n",
    "\n",
    "- **X-axis (Epoch)**: Represents the number of training epochs. Each epoch is one complete pass through the training dataset.\n",
    "- **Y-axis (Accuracy)**: Represents the accuracy of the model. Accuracy is the proportion of correctly predicted instances out of the total instances.\n",
    "\n",
    "### Observations\n",
    "\n",
    "- **Training Accuracy (Blue Line)**: The training accuracy shows a steady increase as the number of epochs increases. This indicates that the model is learning and improving its performance on the training data.\n",
    "- **Test Accuracy (Orange Line)**: The test accuracy also shows an increase and follows a similar trend to the training accuracy. This indicates that the model generalizes well to unseen data.\n",
    "- **Model Performance**: The model achieves over 90% accuracy on both the training and test datasets after 100 epochs, demonstrating its effectiveness in classifying emotions from auficant overfitting.\n"
   ]
  },
  {
   "cell_type": "code",
   "execution_count": 31,
   "id": "2d7647a2-cc62-4c55-9f04-8c1705c53f66",
   "metadata": {},
   "outputs": [
    {
     "data": {
      "text/plain": [
       "<matplotlib.legend.Legend at 0x285b00a6720>"
      ]
     },
     "execution_count": 31,
     "metadata": {},
     "output_type": "execute_result"
    },
    {
     "data": {
      "image/png": "[encoded data removed]",
      "text/plain": [
       "<Figure size 1200x400 with 1 Axes>"
      ]
     },
     "metadata": {},
     "output_type": "display_data"
    }
   ],
   "source": [
    "plt.figure(figsize=(12, 4))\n",
    "plt.subplot(1, 2, 1)\n",
    "plt.plot(history.history['accuracy'])\n",
    "plt.plot(history.history['val_accuracy'])\n",
    "plt.title('Model accuracy')\n",
    "plt.ylabel('Accuracy')\n",
    "plt.xlabel('Epoch')\n",
    "plt.legend(['Train', 'Test'], loc='upper left')"
   ]
  },
  {
   "cell_type": "markdown",
   "id": "31f7b8ff-465e-4c9f-884b-86fe27d63f2f",
   "metadata": {},
   "source": [
    "### Conclusion\n",
    "\n",
    "The graph indicates that the Conv1D model is effective in learning and generalizing the task of emotion recognition from audio features. Both the training and test accuracies show a consistent improvement over the epochs, with the test accuracy closely following the training accuracy, suggesting that the model does not suffer from significant overfitting."
   ]
  },
  {
   "cell_type": "markdown",
   "id": "187e8084-a43c-4b04-8eb8-1f155f8777b7",
   "metadata": {},
   "source": [
    "# Confusion Matrix\n",
    "\n",
    "The following plot shows the confusion matrix for the Conv1D model's predictions on the test dataset.\n",
    "\n"
   ]
  },
  {
   "cell_type": "code",
   "execution_count": 33,
   "id": "eed99318-753a-4196-a9ea-e41173335c57",
   "metadata": {},
   "outputs": [
    {
     "data": {
      "image/png": "[encoded data removed]",
      "text/plain": [
       "<Figure size 640x480 with 2 Axes>"
      ]
     },
     "metadata": {},
     "output_type": "display_data"
    }
   ],
   "source": [
    "import seaborn as sns\n",
    "from sklearn.metrics import confusion_matrix\n",
    "\n",
    "# Compute confusion matrix\n",
    "conf_matrix = confusion_matrix(true_labels, predicted_labels)\n",
    "sns.heatmap(conf_matrix, annot=True, fmt=\"d\", cmap=\"Blues\", xticklabels=label_encoder.classes_, yticklabels=label_encoder.classes_)\n",
    "plt.ylabel('Actual')\n",
    "plt.xlabel('Predicted')\n",
    "plt.show()\n"
   ]
  },
  {
   "cell_type": "markdown",
   "id": "75016e46-b833-4114-95c6-212bed312c57",
   "metadata": {},
   "source": [
    "\n",
    "\n",
    "### Description\n",
    "\n",
    "- **X-axis (Predicted)**: Represents the predicted emotion labels by the model.\n",
    "- **Y-axis (Actual)**: Represents the actual emotion labels.\n",
    "- **Color Scale**: The intensity of the color represents the number of instances classified in each category, with darker colors indicating a higher number of instances.\n",
    "\n",
    "### Emotion Labels\n",
    "The numerical labels correspond to the following emotions:\n",
    "- 0: Neutral\n",
    "- 1: Calm\n",
    "- 2: Happy\n",
    "- 3: Sad\n",
    "- 4: Angry\n",
    "- 5: Fearful\n",
    "- 6: Disgust\n",
    "- 7: Surprised\n",
    "\n",
    "### Observations\n",
    "\n",
    "- **High Accuracy**: Most predictions are concentrated along the diagonal, indicating correct classifications.\n",
    "- **Misclassifications**: Some off-diagonal elements show misclassifications, such as a few instances where 'Neutral' is predicted as 'Calm' or 'Happy'.\n",
    "- **Confusion**: Specific emotions like 'Sad' and 'Angry' show some level of confusion with other emotions, as indicated by the lighter cells off the diagonal.\n",
    "\n",
    "### Conclusion\n",
    "\n",
    "The confusion matrix indicates that the Conv1D model performs well in classifying most of the emotions correctly, with a high number of correct predictions for 'Neutral', 'Sad', and 'Angry'. Some emotions like 'Calm' and 'Happy' have slight confusion with other emotions, but overall, the model demonstrates strong performance in emotion recognition."
   ]
  },
  {
   "cell_type": "code",
   "execution_count": 35,
   "id": "4dc5b551-0161-4b65-80a6-95572d58486e",
   "metadata": {},
   "outputs": [],
   "source": [
    "# Save the model in the recommended Keras format\n",
    "model.save('emotion_recognition_model.keras')\n"
   ]
  },
  {
   "cell_type": "markdown",
   "id": "16a6eed0-1f41-4865-a630-fb5947b5627c",
   "metadata": {},
   "source": [
    "\n",
    "# LSTM Model for Emotion Classification\n",
    "\n",
    "## Model Architecture\n",
    "\n",
    "- **Input Layer**: The model accepts input with the shape (40, 1), where 40 represents the number of MFCC features extracted from the audio signals.\n",
    "- **LSTM Layer**: A Long Short-Term Memory (LSTM) layer with 128 units is used. This layer processes the input sequence and outputs the last hidden state.\n",
    "- **Dense Layer 1**: A fully connected layer with 64 units.\n",
    "- **Dropout Layer 1**: A dropout layer with a dropout rate of 0.4 is added after the first dense layer to reduce overfitting by randomly setting 40% of the input units to 0 during training.\n",
    "- **Activation Layer 1**: A ReLU activation function is applied to introduce non-linearity.\n",
    "- **Dense Layer 2**: Another fully connected layer with 32 units.\n",
    "- **Dropout Layer 2**: Another dropout layer with a dropout rate of 0.4 is added after the second dense layer to further reduce overfitting.\n",
    "- **Activation Layer 2**: Another ReLU activation function is applied.\n",
    "- **Output Layer**: The final output layer consists of 8 units, corresponding to the 8 emotion categories. A softmax activation function is used to output a probability distribution over the emotion categories.\n",
    "\n",
    "## Model Compilation\n",
    "\n",
    "- **Loss Function**: The model uses `categorical_crossentropy` as the loss function, which is suitable for multi-class classification problems.\n",
    "- **Optimizer**: The `Adam` optimizer is used to update the model weights during training. Adam is known for its efficiency and effectiveness in training deep learning models.\n",
    "- **Metrics**: The `accuracy` metric is used to evaluate the model's performance on the training and validation datasets.\n",
    "\n",
    "## Usage\n",
    "\n",
    "The function `create_model_LSTM` initializes and compiles the LSTM model based on the defined architecture. This function can be called to get a compiled model ready for training on the preprocessed dataset.\n"
   ]
  },
  {
   "cell_type": "code",
   "execution_count": 37,
   "id": "bc569d3f-f20f-4a5e-a4d2-91de0d483ce8",
   "metadata": {},
   "outputs": [],
   "source": [
    "def create_model_LSTM():\n",
    "  model = Sequential()\n",
    "  model.add(LSTM(128, return_sequences=False, input_shape=(40, 1)))\n",
    "  model.add (Dense (64))\n",
    "  model.add(Dropout (0.4))\n",
    "  model.add(Activation('relu'))\n",
    "  model.add(Dense(32))\n",
    "  model.add(Dropout (0.4))\n",
    "  model.add(Activation('relu'))\n",
    "  model.add(Dense(8))\n",
    "  model.add(Activation('softmax'))\n",
    "  # Configures the model for training\n",
    "  model.compile(loss='categorical_crossentropy', optimizer='Adam', metrics=['accuracy'])\n",
    "  return model"
   ]
  },
  {
   "cell_type": "code",
   "execution_count": 39,
   "id": "eda58f26-9557-4d6f-872b-a4fcdb0b1fd2",
   "metadata": {},
   "outputs": [
    {
     "data": {
      "text/plain": [
       "(2880, 40)"
      ]
     },
     "execution_count": 39,
     "metadata": {},
     "output_type": "execute_result"
    }
   ],
   "source": [
    "X.shape"
   ]
  },
  {
   "cell_type": "markdown",
   "id": "d50bc884-a1c6-48f1-8327-0950ea81ecb4",
   "metadata": {},
   "source": [
    "## Data Preparation for Model Training\n",
    "\n",
    "### Splitting the Dataset\n",
    "\n",
    "1. **Determine the Number of Samples**: \n",
    "   - `X.shape[0]` gives the total number of samples in the dataset.\n",
    "\n",
    "2. **Calculate the Number of Training, Validation, and Test Samples**:\n",
    "   - **Training Samples**: 80% of the total samples are allocated for training.\n",
    "   - **Validation Samples**: 10% of the total samples are allocated for validation.\n",
    "   - **Test Samples**: 10% of the total samples are allocated for tef_samples * 0.1)\n"
   ]
  },
  {
   "cell_type": "code",
   "execution_count": 41,
   "id": "e54f28e0-43a4-42e5-ab72-818b97a8b4d5",
   "metadata": {},
   "outputs": [],
   "source": [
    "number_of_samples = X.shape[0]\n",
    "training_samples = int(number_of_samples * 0.8)\n",
    "validation_samples = int(number_of_samples * 0.1)\n",
    "test_samples = int(number_of_samples * 0.1)\n"
   ]
  },
  {
   "cell_type": "markdown",
   "id": "00ccfac3-a63b-4949-ac64-ec0ca3399897",
   "metadata": {},
   "source": [
    "#### Reshaping the Training Data\n",
    "\n",
    "**Expand Dimensions of Training Data**:\n",
    "\n",
    "- **Reshape the Training Data**: \n",
    "  - The training data, `X[:training_samples]`, is reshaped by adding an additional dimension using `np.expand_dims`.\n",
    "  - This step is crucial to match the input shape required by the LSTM model, which expects a 3D input.\n",
    "  - The reshaped data ensures compatibility with the LSTM model's input requirements.\n"
   ]
  },
  {
   "cell_type": "code",
   "execution_count": 43,
   "id": "57738349-717f-443d-8480-2f51640b5a18",
   "metadata": {},
   "outputs": [
    {
     "data": {
      "text/plain": [
       "(2304, 40, 1)"
      ]
     },
     "execution_count": 43,
     "metadata": {},
     "output_type": "execute_result"
    }
   ],
   "source": [
    "w = np.expand_dims(X[:training_samples],-1)\n",
    "w.shape"
   ]
  },
  {
   "cell_type": "markdown",
   "id": "7db51c95-8f30-4578-90f2-5f732a803b10",
   "metadata": {},
   "source": [
    "#### Training the LSTM Model\n",
    "\n",
    "**Model Initialization**:\n",
    "- Create the LSTM model by calling the `create_model_LSTM()` function and assign it to `model_A`.\n",
    "\n",
    "**Model Training**:\n",
    "- Train the model using the `fit` method:\n",
    "  - **Training Data**: `w`, which is the reshaped training data.\n",
    "  - **Training Labels**: `y_cat[:training_samples]`, which are the categorical labels for the training data.\n",
    "  - **Validation Data**: \n",
    "    - Inputs: `np.expand_dims(X[training_samples:training_samples + validation_samples], -1)`, reshaped validation data.\n",
    "    - Labels: `y_cat[training_samples:training_samples + validation_samples]`, categorical labels for the validation data.\n",
    "  - **Epochs**: Train the model for 130 epochs.\n",
    "  - **Shuffle**: Enable shuffling of training data at each epoch to improve generalization.\n"
   ]
  },
  {
   "cell_type": "code",
   "execution_count": 45,
   "id": "9b377dbb-d02c-42f7-8082-6de1aba76985",
   "metadata": {},
   "outputs": [
    {
     "name": "stderr",
     "output_type": "stream",
     "text": [
      "C:\\Users\\sarth\\anaconda3\\Lib\\site-packages\\keras\\src\\layers\\rnn\\rnn.py:204: UserWarning: Do not pass an `input_shape`/`input_dim` argument to a layer. When using Sequential models, prefer using an `Input(shape)` object as the first layer in the model instead.\n",
      "  super().__init__(**kwargs)\n"
     ]
    },
    {
     "name": "stdout",
     "output_type": "stream",
     "text": [
      "Epoch 1/130\n",
      "\u001b[1m72/72\u001b[0m \u001b[32m━━━━━━━━━━━━━━━━━━━━\u001b[0m\u001b[37m\u001b[0m \u001b[1m9s\u001b[0m 39ms/step - accuracy: 0.1349 - loss: 2.0852 - val_accuracy: 0.2188 - val_loss: 2.0467\n",
      "Epoch 2/130\n",
      "\u001b[1m72/72\u001b[0m \u001b[32m━━━━━━━━━━━━━━━━━━━━\u001b[0m\u001b[37m\u001b[0m \u001b[1m2s\u001b[0m 28ms/step - accuracy: 0.1706 - loss: 2.0386 - val_accuracy: 0.2188 - val_loss: 1.9792\n",
      "Epoch 3/130\n",
      "\u001b[1m72/72\u001b[0m \u001b[32m━━━━━━━━━━━━━━━━━━━━\u001b[0m\u001b[37m\u001b[0m \u001b[1m2s\u001b[0m 28ms/step - accuracy: 0.2021 - loss: 1.9912 - val_accuracy: 0.2569 - val_loss: 1.9128\n",
      "Epoch 4/130\n",
      "\u001b[1m72/72\u001b[0m \u001b[32m━━━━━━━━━━━━━━━━━━━━\u001b[0m\u001b[37m\u001b[0m \u001b[1m2s\u001b[0m 30ms/step - accuracy: 0.2483 - loss: 1.9334 - val_accuracy: 0.3021 - val_loss: 1.8695\n",
      "Epoch 5/130\n",
      "\u001b[1m72/72\u001b[0m \u001b[32m━━━━━━━━━━━━━━━━━━━━\u001b[0m\u001b[37m\u001b[0m \u001b[1m2s\u001b[0m 28ms/step - accuracy: 0.2637 - loss: 1.9045 - val_accuracy: 0.3056 - val_loss: 1.8294\n",
      "Epoch 6/130\n",
      "\u001b[1m72/72\u001b[0m \u001b[32m━━━━━━━━━━━━━━━━━━━━\u001b[0m\u001b[37m\u001b[0m \u001b[1m2s\u001b[0m 28ms/step - accuracy: 0.2640 - loss: 1.8780 - val_accuracy: 0.3403 - val_loss: 1.8044\n",
      "Epoch 7/130\n",
      "\u001b[1m72/72\u001b[0m \u001b[32m━━━━━━━━━━━━━━━━━━━━\u001b[0m\u001b[37m\u001b[0m \u001b[1m2s\u001b[0m 26ms/step - accuracy: 0.2927 - loss: 1.8321 - val_accuracy: 0.2847 - val_loss: 1.8068\n",
      "Epoch 8/130\n",
      "\u001b[1m72/72\u001b[0m \u001b[32m━━━━━━━━━━━━━━━━━━━━\u001b[0m\u001b[37m\u001b[0m \u001b[1m2s\u001b[0m 27ms/step - accuracy: 0.2943 - loss: 1.8198 - val_accuracy: 0.3194 - val_loss: 1.7774\n",
      "Epoch 9/130\n",
      "\u001b[1m72/72\u001b[0m \u001b[32m━━━━━━━━━━━━━━━━━━━━\u001b[0m\u001b[37m\u001b[0m \u001b[1m2s\u001b[0m 27ms/step - accuracy: 0.2887 - loss: 1.8106 - val_accuracy: 0.2778 - val_loss: 1.7625\n",
      "Epoch 10/130\n",
      "\u001b[1m72/72\u001b[0m \u001b[32m━━━━━━━━━━━━━━━━━━━━\u001b[0m\u001b[37m\u001b[0m \u001b[1m2s\u001b[0m 28ms/step - accuracy: 0.3044 - loss: 1.7820 - val_accuracy: 0.3090 - val_loss: 1.7466\n",
      "Epoch 11/130\n",
      "\u001b[1m72/72\u001b[0m \u001b[32m━━━━━━━━━━━━━━━━━━━━\u001b[0m\u001b[37m\u001b[0m \u001b[1m2s\u001b[0m 27ms/step - accuracy: 0.3209 - loss: 1.7449 - val_accuracy: 0.2951 - val_loss: 1.7557\n",
      "Epoch 12/130\n",
      "\u001b[1m72/72\u001b[0m \u001b[32m━━━━━━━━━━━━━━━━━━━━\u001b[0m\u001b[37m\u001b[0m \u001b[1m2s\u001b[0m 26ms/step - accuracy: 0.3169 - loss: 1.7477 - val_accuracy: 0.3160 - val_loss: 1.6886\n",
      "Epoch 13/130\n",
      "\u001b[1m72/72\u001b[0m \u001b[32m━━━━━━━━━━━━━━━━━━━━\u001b[0m\u001b[37m\u001b[0m \u001b[1m2s\u001b[0m 26ms/step - accuracy: 0.3505 - loss: 1.7074 - val_accuracy: 0.3542 - val_loss: 1.6618\n",
      "Epoch 14/130\n",
      "\u001b[1m72/72\u001b[0m \u001b[32m━━━━━━━━━━━━━━━━━━━━\u001b[0m\u001b[37m\u001b[0m \u001b[1m2s\u001b[0m 27ms/step - accuracy: 0.3579 - loss: 1.6857 - val_accuracy: 0.3611 - val_loss: 1.6651\n",
      "Epoch 15/130\n",
      "\u001b[1m72/72\u001b[0m \u001b[32m━━━━━━━━━━━━━━━━━━━━\u001b[0m\u001b[37m\u001b[0m \u001b[1m2s\u001b[0m 27ms/step - accuracy: 0.3546 - loss: 1.6857 - val_accuracy: 0.3542 - val_loss: 1.6419\n",
      "Epoch 16/130\n",
      "\u001b[1m72/72\u001b[0m \u001b[32m━━━━━━━━━━━━━━━━━━━━\u001b[0m\u001b[37m\u001b[0m \u001b[1m2s\u001b[0m 26ms/step - accuracy: 0.3431 - loss: 1.6863 - val_accuracy: 0.3924 - val_loss: 1.6147\n",
      "Epoch 17/130\n",
      "\u001b[1m72/72\u001b[0m \u001b[32m━━━━━━━━━━━━━━━━━━━━\u001b[0m\u001b[37m\u001b[0m \u001b[1m2s\u001b[0m 27ms/step - accuracy: 0.3356 - loss: 1.6667 - val_accuracy: 0.4132 - val_loss: 1.5306\n",
      "Epoch 18/130\n",
      "\u001b[1m72/72\u001b[0m \u001b[32m━━━━━━━━━━━━━━━━━━━━\u001b[0m\u001b[37m\u001b[0m \u001b[1m2s\u001b[0m 27ms/step - accuracy: 0.3660 - loss: 1.6376 - val_accuracy: 0.4167 - val_loss: 1.5520\n",
      "Epoch 19/130\n",
      "\u001b[1m72/72\u001b[0m \u001b[32m━━━━━━━━━━━━━━━━━━━━\u001b[0m\u001b[37m\u001b[0m \u001b[1m2s\u001b[0m 27ms/step - accuracy: 0.3903 - loss: 1.5634 - val_accuracy: 0.4028 - val_loss: 1.5521\n",
      "Epoch 20/130\n",
      "\u001b[1m72/72\u001b[0m \u001b[32m━━━━━━━━━━━━━━━━━━━━\u001b[0m\u001b[37m\u001b[0m \u001b[1m2s\u001b[0m 28ms/step - accuracy: 0.3741 - loss: 1.5881 - val_accuracy: 0.4167 - val_loss: 1.5179\n",
      "Epoch 21/130\n",
      "\u001b[1m72/72\u001b[0m \u001b[32m━━━━━━━━━━━━━━━━━━━━\u001b[0m\u001b[37m\u001b[0m \u001b[1m2s\u001b[0m 27ms/step - accuracy: 0.3866 - loss: 1.5546 - val_accuracy: 0.4375 - val_loss: 1.4645\n",
      "Epoch 22/130\n",
      "\u001b[1m72/72\u001b[0m \u001b[32m━━━━━━━━━━━━━━━━━━━━\u001b[0m\u001b[37m\u001b[0m \u001b[1m2s\u001b[0m 27ms/step - accuracy: 0.3998 - loss: 1.5507 - val_accuracy: 0.4167 - val_loss: 1.4884\n",
      "Epoch 23/130\n",
      "\u001b[1m72/72\u001b[0m \u001b[32m━━━━━━━━━━━━━━━━━━━━\u001b[0m\u001b[37m\u001b[0m \u001b[1m2s\u001b[0m 27ms/step - accuracy: 0.3974 - loss: 1.5494 - val_accuracy: 0.4479 - val_loss: 1.4774\n",
      "Epoch 24/130\n",
      "\u001b[1m72/72\u001b[0m \u001b[32m━━━━━━━━━━━━━━━━━━━━\u001b[0m\u001b[37m\u001b[0m \u001b[1m2s\u001b[0m 27ms/step - accuracy: 0.4284 - loss: 1.4803 - val_accuracy: 0.4375 - val_loss: 1.4695\n",
      "Epoch 25/130\n",
      "\u001b[1m72/72\u001b[0m \u001b[32m━━━━━━━━━━━━━━━━━━━━\u001b[0m\u001b[37m\u001b[0m \u001b[1m2s\u001b[0m 27ms/step - accuracy: 0.4487 - loss: 1.4565 - val_accuracy: 0.4722 - val_loss: 1.3986\n",
      "Epoch 26/130\n",
      "\u001b[1m72/72\u001b[0m \u001b[32m━━━━━━━━━━━━━━━━━━━━\u001b[0m\u001b[37m\u001b[0m \u001b[1m2s\u001b[0m 27ms/step - accuracy: 0.4477 - loss: 1.4596 - val_accuracy: 0.4653 - val_loss: 1.4193\n",
      "Epoch 27/130\n",
      "\u001b[1m72/72\u001b[0m \u001b[32m━━━━━━━━━━━━━━━━━━━━\u001b[0m\u001b[37m\u001b[0m \u001b[1m2s\u001b[0m 27ms/step - accuracy: 0.4485 - loss: 1.4399 - val_accuracy: 0.4549 - val_loss: 1.3705\n",
      "Epoch 28/130\n",
      "\u001b[1m72/72\u001b[0m \u001b[32m━━━━━━━━━━━━━━━━━━━━\u001b[0m\u001b[37m\u001b[0m \u001b[1m2s\u001b[0m 27ms/step - accuracy: 0.4645 - loss: 1.3880 - val_accuracy: 0.4618 - val_loss: 1.3733\n",
      "Epoch 29/130\n",
      "\u001b[1m72/72\u001b[0m \u001b[32m━━━━━━━━━━━━━━━━━━━━\u001b[0m\u001b[37m\u001b[0m \u001b[1m2s\u001b[0m 25ms/step - accuracy: 0.4562 - loss: 1.4109 - val_accuracy: 0.4444 - val_loss: 1.3776\n",
      "Epoch 30/130\n",
      "\u001b[1m72/72\u001b[0m \u001b[32m━━━━━━━━━━━━━━━━━━━━\u001b[0m\u001b[37m\u001b[0m \u001b[1m2s\u001b[0m 26ms/step - accuracy: 0.4726 - loss: 1.3581 - val_accuracy: 0.4826 - val_loss: 1.3664\n",
      "Epoch 31/130\n",
      "\u001b[1m72/72\u001b[0m \u001b[32m━━━━━━━━━━━━━━━━━━━━\u001b[0m\u001b[37m\u001b[0m \u001b[1m2s\u001b[0m 28ms/step - accuracy: 0.4898 - loss: 1.3437 - val_accuracy: 0.4722 - val_loss: 1.3647\n",
      "Epoch 32/130\n",
      "\u001b[1m72/72\u001b[0m \u001b[32m━━━━━━━━━━━━━━━━━━━━\u001b[0m\u001b[37m\u001b[0m \u001b[1m2s\u001b[0m 27ms/step - accuracy: 0.5307 - loss: 1.2373 - val_accuracy: 0.4271 - val_loss: 1.4307\n",
      "Epoch 33/130\n",
      "\u001b[1m72/72\u001b[0m \u001b[32m━━━━━━━━━━━━━━━━━━━━\u001b[0m\u001b[37m\u001b[0m \u001b[1m2s\u001b[0m 27ms/step - accuracy: 0.5211 - loss: 1.2864 - val_accuracy: 0.4722 - val_loss: 1.3050\n",
      "Epoch 34/130\n",
      "\u001b[1m72/72\u001b[0m \u001b[32m━━━━━━━━━━━━━━━━━━━━\u001b[0m\u001b[37m\u001b[0m \u001b[1m2s\u001b[0m 28ms/step - accuracy: 0.5373 - loss: 1.2102 - val_accuracy: 0.4757 - val_loss: 1.3037\n",
      "Epoch 35/130\n",
      "\u001b[1m72/72\u001b[0m \u001b[32m━━━━━━━━━━━━━━━━━━━━\u001b[0m\u001b[37m\u001b[0m \u001b[1m2s\u001b[0m 29ms/step - accuracy: 0.5300 - loss: 1.2638 - val_accuracy: 0.4896 - val_loss: 1.3212\n",
      "Epoch 36/130\n",
      "\u001b[1m72/72\u001b[0m \u001b[32m━━━━━━━━━━━━━━━━━━━━\u001b[0m\u001b[37m\u001b[0m \u001b[1m2s\u001b[0m 27ms/step - accuracy: 0.5851 - loss: 1.1485 - val_accuracy: 0.4792 - val_loss: 1.2699\n",
      "Epoch 37/130\n",
      "\u001b[1m72/72\u001b[0m \u001b[32m━━━━━━━━━━━━━━━━━━━━\u001b[0m\u001b[37m\u001b[0m \u001b[1m2s\u001b[0m 27ms/step - accuracy: 0.5552 - loss: 1.2055 - val_accuracy: 0.5035 - val_loss: 1.2504\n",
      "Epoch 38/130\n",
      "\u001b[1m72/72\u001b[0m \u001b[32m━━━━━━━━━━━━━━━━━━━━\u001b[0m\u001b[37m\u001b[0m \u001b[1m2s\u001b[0m 28ms/step - accuracy: 0.5813 - loss: 1.1403 - val_accuracy: 0.5208 - val_loss: 1.2228\n",
      "Epoch 39/130\n",
      "\u001b[1m72/72\u001b[0m \u001b[32m━━━━━━━━━━━━━━━━━━━━\u001b[0m\u001b[37m\u001b[0m \u001b[1m2s\u001b[0m 26ms/step - accuracy: 0.5818 - loss: 1.1429 - val_accuracy: 0.5104 - val_loss: 1.2201\n",
      "Epoch 40/130\n",
      "\u001b[1m72/72\u001b[0m \u001b[32m━━━━━━━━━━━━━━━━━━━━\u001b[0m\u001b[37m\u001b[0m \u001b[1m2s\u001b[0m 27ms/step - accuracy: 0.6016 - loss: 1.0515 - val_accuracy: 0.5278 - val_loss: 1.2673\n",
      "Epoch 41/130\n",
      "\u001b[1m72/72\u001b[0m \u001b[32m━━━━━━━━━━━━━━━━━━━━\u001b[0m\u001b[37m\u001b[0m \u001b[1m2s\u001b[0m 27ms/step - accuracy: 0.5776 - loss: 1.1214 - val_accuracy: 0.5312 - val_loss: 1.1297\n",
      "Epoch 42/130\n",
      "\u001b[1m72/72\u001b[0m \u001b[32m━━━━━━━━━━━━━━━━━━━━\u001b[0m\u001b[37m\u001b[0m \u001b[1m2s\u001b[0m 28ms/step - accuracy: 0.5982 - loss: 1.0526 - val_accuracy: 0.5278 - val_loss: 1.1614\n",
      "Epoch 43/130\n",
      "\u001b[1m72/72\u001b[0m \u001b[32m━━━━━━━━━━━━━━━━━━━━\u001b[0m\u001b[37m\u001b[0m \u001b[1m2s\u001b[0m 28ms/step - accuracy: 0.6097 - loss: 1.0236 - val_accuracy: 0.5347 - val_loss: 1.1220\n",
      "Epoch 44/130\n",
      "\u001b[1m72/72\u001b[0m \u001b[32m━━━━━━━━━━━━━━━━━━━━\u001b[0m\u001b[37m\u001b[0m \u001b[1m2s\u001b[0m 27ms/step - accuracy: 0.6324 - loss: 0.9693 - val_accuracy: 0.5556 - val_loss: 1.1167\n",
      "Epoch 45/130\n",
      "\u001b[1m72/72\u001b[0m \u001b[32m━━━━━━━━━━━━━━━━━━━━\u001b[0m\u001b[37m\u001b[0m \u001b[1m2s\u001b[0m 26ms/step - accuracy: 0.6282 - loss: 0.9739 - val_accuracy: 0.5764 - val_loss: 1.0756\n",
      "Epoch 46/130\n",
      "\u001b[1m72/72\u001b[0m \u001b[32m━━━━━━━━━━━━━━━━━━━━\u001b[0m\u001b[37m\u001b[0m \u001b[1m2s\u001b[0m 26ms/step - accuracy: 0.6481 - loss: 0.9505 - val_accuracy: 0.5764 - val_loss: 1.0680\n",
      "Epoch 47/130\n",
      "\u001b[1m72/72\u001b[0m \u001b[32m━━━━━━━━━━━━━━━━━━━━\u001b[0m\u001b[37m\u001b[0m \u001b[1m2s\u001b[0m 27ms/step - accuracy: 0.6858 - loss: 0.8747 - val_accuracy: 0.5590 - val_loss: 1.1428\n",
      "Epoch 48/130\n",
      "\u001b[1m72/72\u001b[0m \u001b[32m━━━━━━━━━━━━━━━━━━━━\u001b[0m\u001b[37m\u001b[0m \u001b[1m2s\u001b[0m 25ms/step - accuracy: 0.6546 - loss: 0.9648 - val_accuracy: 0.5729 - val_loss: 1.0628\n",
      "Epoch 49/130\n",
      "\u001b[1m72/72\u001b[0m \u001b[32m━━━━━━━━━━━━━━━━━━━━\u001b[0m\u001b[37m\u001b[0m \u001b[1m2s\u001b[0m 26ms/step - accuracy: 0.6857 - loss: 0.8728 - val_accuracy: 0.6076 - val_loss: 0.9662\n",
      "Epoch 50/130\n",
      "\u001b[1m72/72\u001b[0m \u001b[32m━━━━━━━━━━━━━━━━━━━━\u001b[0m\u001b[37m\u001b[0m \u001b[1m2s\u001b[0m 28ms/step - accuracy: 0.6854 - loss: 0.8437 - val_accuracy: 0.6389 - val_loss: 0.9331\n",
      "Epoch 51/130\n",
      "\u001b[1m72/72\u001b[0m \u001b[32m━━━━━━━━━━━━━━━━━━━━\u001b[0m\u001b[37m\u001b[0m \u001b[1m2s\u001b[0m 28ms/step - accuracy: 0.7120 - loss: 0.7660 - val_accuracy: 0.5486 - val_loss: 1.3754\n",
      "Epoch 52/130\n",
      "\u001b[1m72/72\u001b[0m \u001b[32m━━━━━━━━━━━━━━━━━━━━\u001b[0m\u001b[37m\u001b[0m \u001b[1m2s\u001b[0m 27ms/step - accuracy: 0.6097 - loss: 1.0963 - val_accuracy: 0.5521 - val_loss: 1.1079\n",
      "Epoch 53/130\n",
      "\u001b[1m72/72\u001b[0m \u001b[32m━━━━━━━━━━━━━━━━━━━━\u001b[0m\u001b[37m\u001b[0m \u001b[1m2s\u001b[0m 26ms/step - accuracy: 0.6821 - loss: 0.8806 - val_accuracy: 0.5938 - val_loss: 1.1049\n",
      "Epoch 54/130\n",
      "\u001b[1m72/72\u001b[0m \u001b[32m━━━━━━━━━━━━━━━━━━━━\u001b[0m\u001b[37m\u001b[0m \u001b[1m2s\u001b[0m 28ms/step - accuracy: 0.6888 - loss: 0.8990 - val_accuracy: 0.6667 - val_loss: 0.8929\n",
      "Epoch 55/130\n",
      "\u001b[1m72/72\u001b[0m \u001b[32m━━━━━━━━━━━━━━━━━━━━\u001b[0m\u001b[37m\u001b[0m \u001b[1m2s\u001b[0m 27ms/step - accuracy: 0.7373 - loss: 0.7505 - val_accuracy: 0.6285 - val_loss: 0.9471\n",
      "Epoch 56/130\n",
      "\u001b[1m72/72\u001b[0m \u001b[32m━━━━━━━━━━━━━━━━━━━━\u001b[0m\u001b[37m\u001b[0m \u001b[1m2s\u001b[0m 26ms/step - accuracy: 0.7421 - loss: 0.7082 - val_accuracy: 0.6597 - val_loss: 0.8571\n",
      "Epoch 57/130\n",
      "\u001b[1m72/72\u001b[0m \u001b[32m━━━━━━━━━━━━━━━━━━━━\u001b[0m\u001b[37m\u001b[0m \u001b[1m2s\u001b[0m 27ms/step - accuracy: 0.7498 - loss: 0.6720 - val_accuracy: 0.6285 - val_loss: 0.9425\n",
      "Epoch 58/130\n",
      "\u001b[1m72/72\u001b[0m \u001b[32m━━━━━━━━━━━━━━━━━━━━\u001b[0m\u001b[37m\u001b[0m \u001b[1m2s\u001b[0m 27ms/step - accuracy: 0.7258 - loss: 0.7813 - val_accuracy: 0.6840 - val_loss: 0.7611\n",
      "Epoch 59/130\n",
      "\u001b[1m72/72\u001b[0m \u001b[32m━━━━━━━━━━━━━━━━━━━━\u001b[0m\u001b[37m\u001b[0m \u001b[1m2s\u001b[0m 28ms/step - accuracy: 0.7707 - loss: 0.6493 - val_accuracy: 0.6458 - val_loss: 0.9103\n",
      "Epoch 60/130\n",
      "\u001b[1m72/72\u001b[0m \u001b[32m━━━━━━━━━━━━━━━━━━━━\u001b[0m\u001b[37m\u001b[0m \u001b[1m2s\u001b[0m 27ms/step - accuracy: 0.7464 - loss: 0.6837 - val_accuracy: 0.6875 - val_loss: 0.7579\n",
      "Epoch 61/130\n",
      "\u001b[1m72/72\u001b[0m \u001b[32m━━━━━━━━━━━━━━━━━━━━\u001b[0m\u001b[37m\u001b[0m \u001b[1m2s\u001b[0m 26ms/step - accuracy: 0.7876 - loss: 0.6144 - val_accuracy: 0.7118 - val_loss: 0.7212\n",
      "Epoch 62/130\n",
      "\u001b[1m72/72\u001b[0m \u001b[32m━━━━━━━━━━━━━━━━━━━━\u001b[0m\u001b[37m\u001b[0m \u001b[1m2s\u001b[0m 26ms/step - accuracy: 0.7971 - loss: 0.5654 - val_accuracy: 0.7153 - val_loss: 0.7474\n",
      "Epoch 63/130\n",
      "\u001b[1m72/72\u001b[0m \u001b[32m━━━━━━━━━━━━━━━━━━━━\u001b[0m\u001b[37m\u001b[0m \u001b[1m2s\u001b[0m 26ms/step - accuracy: 0.7865 - loss: 0.6295 - val_accuracy: 0.7188 - val_loss: 0.7527\n",
      "Epoch 64/130\n",
      "\u001b[1m72/72\u001b[0m \u001b[32m━━━━━━━━━━━━━━━━━━━━\u001b[0m\u001b[37m\u001b[0m \u001b[1m2s\u001b[0m 26ms/step - accuracy: 0.8018 - loss: 0.5822 - val_accuracy: 0.7431 - val_loss: 0.6734\n",
      "Epoch 65/130\n",
      "\u001b[1m72/72\u001b[0m \u001b[32m━━━━━━━━━━━━━━━━━━━━\u001b[0m\u001b[37m\u001b[0m \u001b[1m2s\u001b[0m 26ms/step - accuracy: 0.8333 - loss: 0.5180 - val_accuracy: 0.7708 - val_loss: 0.6198\n",
      "Epoch 66/130\n",
      "\u001b[1m72/72\u001b[0m \u001b[32m━━━━━━━━━━━━━━━━━━━━\u001b[0m\u001b[37m\u001b[0m \u001b[1m2s\u001b[0m 27ms/step - accuracy: 0.7774 - loss: 0.6605 - val_accuracy: 0.7049 - val_loss: 0.8051\n",
      "Epoch 67/130\n",
      "\u001b[1m72/72\u001b[0m \u001b[32m━━━━━━━━━━━━━━━━━━━━\u001b[0m\u001b[37m\u001b[0m \u001b[1m2s\u001b[0m 28ms/step - accuracy: 0.7738 - loss: 0.7017 - val_accuracy: 0.7083 - val_loss: 0.8088\n",
      "Epoch 68/130\n",
      "\u001b[1m72/72\u001b[0m \u001b[32m━━━━━━━━━━━━━━━━━━━━\u001b[0m\u001b[37m\u001b[0m \u001b[1m2s\u001b[0m 26ms/step - accuracy: 0.7860 - loss: 0.5969 - val_accuracy: 0.7778 - val_loss: 0.5832\n",
      "Epoch 69/130\n",
      "\u001b[1m72/72\u001b[0m \u001b[32m━━━━━━━━━━━━━━━━━━━━\u001b[0m\u001b[37m\u001b[0m \u001b[1m2s\u001b[0m 27ms/step - accuracy: 0.8486 - loss: 0.4263 - val_accuracy: 0.7917 - val_loss: 0.5460\n",
      "Epoch 70/130\n",
      "\u001b[1m72/72\u001b[0m \u001b[32m━━━━━━━━━━━━━━━━━━━━\u001b[0m\u001b[37m\u001b[0m \u001b[1m2s\u001b[0m 27ms/step - accuracy: 0.8438 - loss: 0.4333 - val_accuracy: 0.7847 - val_loss: 0.5783\n",
      "Epoch 71/130\n",
      "\u001b[1m72/72\u001b[0m \u001b[32m━━━━━━━━━━━━━━━━━━━━\u001b[0m\u001b[37m\u001b[0m \u001b[1m2s\u001b[0m 29ms/step - accuracy: 0.8348 - loss: 0.4472 - val_accuracy: 0.8021 - val_loss: 0.6006\n",
      "Epoch 72/130\n",
      "\u001b[1m72/72\u001b[0m \u001b[32m━━━━━━━━━━━━━━━━━━━━\u001b[0m\u001b[37m\u001b[0m \u001b[1m2s\u001b[0m 26ms/step - accuracy: 0.8351 - loss: 0.5022 - val_accuracy: 0.7951 - val_loss: 0.5667\n",
      "Epoch 73/130\n",
      "\u001b[1m72/72\u001b[0m \u001b[32m━━━━━━━━━━━━━━━━━━━━\u001b[0m\u001b[37m\u001b[0m \u001b[1m2s\u001b[0m 26ms/step - accuracy: 0.8307 - loss: 0.5088 - val_accuracy: 0.8403 - val_loss: 0.4647\n",
      "Epoch 74/130\n",
      "\u001b[1m72/72\u001b[0m \u001b[32m━━━━━━━━━━━━━━━━━━━━\u001b[0m\u001b[37m\u001b[0m \u001b[1m2s\u001b[0m 28ms/step - accuracy: 0.8821 - loss: 0.3522 - val_accuracy: 0.8403 - val_loss: 0.4453\n",
      "Epoch 75/130\n",
      "\u001b[1m72/72\u001b[0m \u001b[32m━━━━━━━━━━━━━━━━━━━━\u001b[0m\u001b[37m\u001b[0m \u001b[1m2s\u001b[0m 28ms/step - accuracy: 0.8604 - loss: 0.4330 - val_accuracy: 0.8229 - val_loss: 0.4687\n",
      "Epoch 76/130\n",
      "\u001b[1m72/72\u001b[0m \u001b[32m━━━━━━━━━━━━━━━━━━━━\u001b[0m\u001b[37m\u001b[0m \u001b[1m2s\u001b[0m 27ms/step - accuracy: 0.8668 - loss: 0.4055 - val_accuracy: 0.8160 - val_loss: 0.5043\n",
      "Epoch 77/130\n",
      "\u001b[1m72/72\u001b[0m \u001b[32m━━━━━━━━━━━━━━━━━━━━\u001b[0m\u001b[37m\u001b[0m \u001b[1m2s\u001b[0m 26ms/step - accuracy: 0.8657 - loss: 0.4158 - val_accuracy: 0.8438 - val_loss: 0.4826\n",
      "Epoch 78/130\n",
      "\u001b[1m72/72\u001b[0m \u001b[32m━━━━━━━━━━━━━━━━━━━━\u001b[0m\u001b[37m\u001b[0m \u001b[1m2s\u001b[0m 26ms/step - accuracy: 0.8805 - loss: 0.3771 - val_accuracy: 0.8646 - val_loss: 0.4151\n",
      "Epoch 79/130\n",
      "\u001b[1m72/72\u001b[0m \u001b[32m━━━━━━━━━━━━━━━━━━━━\u001b[0m\u001b[37m\u001b[0m \u001b[1m2s\u001b[0m 27ms/step - accuracy: 0.8986 - loss: 0.3198 - val_accuracy: 0.8611 - val_loss: 0.4387\n",
      "Epoch 80/130\n",
      "\u001b[1m72/72\u001b[0m \u001b[32m━━━━━━━━━━━━━━━━━━━━\u001b[0m\u001b[37m\u001b[0m \u001b[1m2s\u001b[0m 27ms/step - accuracy: 0.7706 - loss: 0.7848 - val_accuracy: 0.8125 - val_loss: 0.5848\n",
      "Epoch 81/130\n",
      "\u001b[1m72/72\u001b[0m \u001b[32m━━━━━━━━━━━━━━━━━━━━\u001b[0m\u001b[37m\u001b[0m \u001b[1m2s\u001b[0m 28ms/step - accuracy: 0.8346 - loss: 0.4886 - val_accuracy: 0.8299 - val_loss: 0.4627\n",
      "Epoch 82/130\n",
      "\u001b[1m72/72\u001b[0m \u001b[32m━━━━━━━━━━━━━━━━━━━━\u001b[0m\u001b[37m\u001b[0m \u001b[1m2s\u001b[0m 27ms/step - accuracy: 0.8867 - loss: 0.3357 - val_accuracy: 0.8472 - val_loss: 0.4220\n",
      "Epoch 83/130\n",
      "\u001b[1m72/72\u001b[0m \u001b[32m━━━━━━━━━━━━━━━━━━━━\u001b[0m\u001b[37m\u001b[0m \u001b[1m2s\u001b[0m 28ms/step - accuracy: 0.8785 - loss: 0.3646 - val_accuracy: 0.8611 - val_loss: 0.3486\n",
      "Epoch 84/130\n",
      "\u001b[1m72/72\u001b[0m \u001b[32m━━━━━━━━━━━━━━━━━━━━\u001b[0m\u001b[37m\u001b[0m \u001b[1m2s\u001b[0m 27ms/step - accuracy: 0.9031 - loss: 0.2967 - val_accuracy: 0.8681 - val_loss: 0.3355\n",
      "Epoch 85/130\n",
      "\u001b[1m72/72\u001b[0m \u001b[32m━━━━━━━━━━━━━━━━━━━━\u001b[0m\u001b[37m\u001b[0m \u001b[1m2s\u001b[0m 27ms/step - accuracy: 0.9184 - loss: 0.2438 - val_accuracy: 0.8611 - val_loss: 0.3343\n",
      "Epoch 86/130\n",
      "\u001b[1m72/72\u001b[0m \u001b[32m━━━━━━━━━━━━━━━━━━━━\u001b[0m\u001b[37m\u001b[0m \u001b[1m2s\u001b[0m 26ms/step - accuracy: 0.9124 - loss: 0.2843 - val_accuracy: 0.8264 - val_loss: 0.4981\n",
      "Epoch 87/130\n",
      "\u001b[1m72/72\u001b[0m \u001b[32m━━━━━━━━━━━━━━━━━━━━\u001b[0m\u001b[37m\u001b[0m \u001b[1m2s\u001b[0m 28ms/step - accuracy: 0.8725 - loss: 0.3971 - val_accuracy: 0.8438 - val_loss: 0.4943\n",
      "Epoch 88/130\n",
      "\u001b[1m72/72\u001b[0m \u001b[32m━━━━━━━━━━━━━━━━━━━━\u001b[0m\u001b[37m\u001b[0m \u001b[1m2s\u001b[0m 29ms/step - accuracy: 0.9040 - loss: 0.3112 - val_accuracy: 0.9132 - val_loss: 0.2725\n",
      "Epoch 89/130\n",
      "\u001b[1m72/72\u001b[0m \u001b[32m━━━━━━━━━━━━━━━━━━━━\u001b[0m\u001b[37m\u001b[0m \u001b[1m2s\u001b[0m 27ms/step - accuracy: 0.9295 - loss: 0.2382 - val_accuracy: 0.8958 - val_loss: 0.3044\n",
      "Epoch 90/130\n",
      "\u001b[1m72/72\u001b[0m \u001b[32m━━━━━━━━━━━━━━━━━━━━\u001b[0m\u001b[37m\u001b[0m \u001b[1m2s\u001b[0m 29ms/step - accuracy: 0.9136 - loss: 0.2647 - val_accuracy: 0.9132 - val_loss: 0.2460\n",
      "Epoch 91/130\n",
      "\u001b[1m72/72\u001b[0m \u001b[32m━━━━━━━━━━━━━━━━━━━━\u001b[0m\u001b[37m\u001b[0m \u001b[1m2s\u001b[0m 28ms/step - accuracy: 0.9168 - loss: 0.2393 - val_accuracy: 0.9028 - val_loss: 0.2619\n",
      "Epoch 92/130\n",
      "\u001b[1m72/72\u001b[0m \u001b[32m━━━━━━━━━━━━━━━━━━━━\u001b[0m\u001b[37m\u001b[0m \u001b[1m2s\u001b[0m 27ms/step - accuracy: 0.8985 - loss: 0.2992 - val_accuracy: 0.9028 - val_loss: 0.2604\n",
      "Epoch 93/130\n",
      "\u001b[1m72/72\u001b[0m \u001b[32m━━━━━━━━━━━━━━━━━━━━\u001b[0m\u001b[37m\u001b[0m \u001b[1m2s\u001b[0m 26ms/step - accuracy: 0.9300 - loss: 0.2541 - val_accuracy: 0.8507 - val_loss: 0.5106\n",
      "Epoch 94/130\n",
      "\u001b[1m72/72\u001b[0m \u001b[32m━━━━━━━━━━━━━━━━━━━━\u001b[0m\u001b[37m\u001b[0m \u001b[1m2s\u001b[0m 26ms/step - accuracy: 0.9087 - loss: 0.3135 - val_accuracy: 0.8194 - val_loss: 0.5141\n",
      "Epoch 95/130\n",
      "\u001b[1m72/72\u001b[0m \u001b[32m━━━━━━━━━━━━━━━━━━━━\u001b[0m\u001b[37m\u001b[0m \u001b[1m2s\u001b[0m 27ms/step - accuracy: 0.8497 - loss: 0.4752 - val_accuracy: 0.8785 - val_loss: 0.3904\n",
      "Epoch 96/130\n",
      "\u001b[1m72/72\u001b[0m \u001b[32m━━━━━━━━━━━━━━━━━━━━\u001b[0m\u001b[37m\u001b[0m \u001b[1m2s\u001b[0m 27ms/step - accuracy: 0.9080 - loss: 0.2869 - val_accuracy: 0.9236 - val_loss: 0.2341\n",
      "Epoch 97/130\n",
      "\u001b[1m72/72\u001b[0m \u001b[32m━━━━━━━━━━━━━━━━━━━━\u001b[0m\u001b[37m\u001b[0m \u001b[1m2s\u001b[0m 28ms/step - accuracy: 0.9368 - loss: 0.2094 - val_accuracy: 0.9167 - val_loss: 0.2145\n",
      "Epoch 98/130\n",
      "\u001b[1m72/72\u001b[0m \u001b[32m━━━━━━━━━━━━━━━━━━━━\u001b[0m\u001b[37m\u001b[0m \u001b[1m2s\u001b[0m 28ms/step - accuracy: 0.9332 - loss: 0.1993 - val_accuracy: 0.9583 - val_loss: 0.1427\n",
      "Epoch 99/130\n",
      "\u001b[1m72/72\u001b[0m \u001b[32m━━━━━━━━━━━━━━━━━━━━\u001b[0m\u001b[37m\u001b[0m \u001b[1m2s\u001b[0m 28ms/step - accuracy: 0.9478 - loss: 0.1827 - val_accuracy: 0.9271 - val_loss: 0.2402\n",
      "Epoch 100/130\n",
      "\u001b[1m72/72\u001b[0m \u001b[32m━━━━━━━━━━━━━━━━━━━━\u001b[0m\u001b[37m\u001b[0m \u001b[1m2s\u001b[0m 28ms/step - accuracy: 0.9157 - loss: 0.2880 - val_accuracy: 0.9236 - val_loss: 0.2035\n",
      "Epoch 101/130\n",
      "\u001b[1m72/72\u001b[0m \u001b[32m━━━━━━━━━━━━━━━━━━━━\u001b[0m\u001b[37m\u001b[0m \u001b[1m2s\u001b[0m 27ms/step - accuracy: 0.9353 - loss: 0.2425 - val_accuracy: 0.8819 - val_loss: 0.5594\n",
      "Epoch 102/130\n",
      "\u001b[1m72/72\u001b[0m \u001b[32m━━━━━━━━━━━━━━━━━━━━\u001b[0m\u001b[37m\u001b[0m \u001b[1m2s\u001b[0m 27ms/step - accuracy: 0.8865 - loss: 0.6061 - val_accuracy: 0.9236 - val_loss: 0.2555\n",
      "Epoch 103/130\n",
      "\u001b[1m72/72\u001b[0m \u001b[32m━━━━━━━━━━━━━━━━━━━━\u001b[0m\u001b[37m\u001b[0m \u001b[1m2s\u001b[0m 27ms/step - accuracy: 0.9085 - loss: 0.3460 - val_accuracy: 0.8924 - val_loss: 0.3418\n",
      "Epoch 104/130\n",
      "\u001b[1m72/72\u001b[0m \u001b[32m━━━━━━━━━━━━━━━━━━━━\u001b[0m\u001b[37m\u001b[0m \u001b[1m2s\u001b[0m 28ms/step - accuracy: 0.9300 - loss: 0.2366 - val_accuracy: 0.9375 - val_loss: 0.2299\n",
      "Epoch 105/130\n",
      "\u001b[1m72/72\u001b[0m \u001b[32m━━━━━━━━━━━━━━━━━━━━\u001b[0m\u001b[37m\u001b[0m \u001b[1m2s\u001b[0m 28ms/step - accuracy: 0.9154 - loss: 0.2719 - val_accuracy: 0.9653 - val_loss: 0.1472\n",
      "Epoch 106/130\n",
      "\u001b[1m72/72\u001b[0m \u001b[32m━━━━━━━━━━━━━━━━━━━━\u001b[0m\u001b[37m\u001b[0m \u001b[1m2s\u001b[0m 29ms/step - accuracy: 0.9592 - loss: 0.1603 - val_accuracy: 0.9722 - val_loss: 0.1150\n",
      "Epoch 107/130\n",
      "\u001b[1m72/72\u001b[0m \u001b[32m━━━━━━━━━━━━━━━━━━━━\u001b[0m\u001b[37m\u001b[0m \u001b[1m2s\u001b[0m 28ms/step - accuracy: 0.9526 - loss: 0.1813 - val_accuracy: 0.9444 - val_loss: 0.1559\n",
      "Epoch 108/130\n",
      "\u001b[1m72/72\u001b[0m \u001b[32m━━━━━━━━━━━━━━━━━━━━\u001b[0m\u001b[37m\u001b[0m \u001b[1m2s\u001b[0m 27ms/step - accuracy: 0.9374 - loss: 0.2292 - val_accuracy: 0.9236 - val_loss: 0.2545\n",
      "Epoch 109/130\n",
      "\u001b[1m72/72\u001b[0m \u001b[32m━━━━━━━━━━━━━━━━━━━━\u001b[0m\u001b[37m\u001b[0m \u001b[1m2s\u001b[0m 27ms/step - accuracy: 0.9206 - loss: 0.2577 - val_accuracy: 0.9653 - val_loss: 0.1185\n",
      "Epoch 110/130\n",
      "\u001b[1m72/72\u001b[0m \u001b[32m━━━━━━━━━━━━━━━━━━━━\u001b[0m\u001b[37m\u001b[0m \u001b[1m2s\u001b[0m 27ms/step - accuracy: 0.9450 - loss: 0.1700 - val_accuracy: 0.9410 - val_loss: 0.2270\n",
      "Epoch 111/130\n",
      "\u001b[1m72/72\u001b[0m \u001b[32m━━━━━━━━━━━━━━━━━━━━\u001b[0m\u001b[37m\u001b[0m \u001b[1m2s\u001b[0m 27ms/step - accuracy: 0.9114 - loss: 0.2901 - val_accuracy: 0.9271 - val_loss: 0.2798\n",
      "Epoch 112/130\n",
      "\u001b[1m72/72\u001b[0m \u001b[32m━━━━━━━━━━━━━━━━━━━━\u001b[0m\u001b[37m\u001b[0m \u001b[1m2s\u001b[0m 27ms/step - accuracy: 0.9300 - loss: 0.2372 - val_accuracy: 0.9792 - val_loss: 0.1121\n",
      "Epoch 113/130\n",
      "\u001b[1m72/72\u001b[0m \u001b[32m━━━━━━━━━━━━━━━━━━━━\u001b[0m\u001b[37m\u001b[0m \u001b[1m2s\u001b[0m 28ms/step - accuracy: 0.9639 - loss: 0.1247 - val_accuracy: 0.9688 - val_loss: 0.1063\n",
      "Epoch 114/130\n",
      "\u001b[1m72/72\u001b[0m \u001b[32m━━━━━━━━━━━━━━━━━━━━\u001b[0m\u001b[37m\u001b[0m \u001b[1m2s\u001b[0m 28ms/step - accuracy: 0.9631 - loss: 0.1246 - val_accuracy: 0.9792 - val_loss: 0.0902\n",
      "Epoch 115/130\n",
      "\u001b[1m72/72\u001b[0m \u001b[32m━━━━━━━━━━━━━━━━━━━━\u001b[0m\u001b[37m\u001b[0m \u001b[1m2s\u001b[0m 28ms/step - accuracy: 0.9606 - loss: 0.1295 - val_accuracy: 0.9722 - val_loss: 0.0768\n",
      "Epoch 116/130\n",
      "\u001b[1m72/72\u001b[0m \u001b[32m━━━━━━━━━━━━━━━━━━━━\u001b[0m\u001b[37m\u001b[0m \u001b[1m2s\u001b[0m 27ms/step - accuracy: 0.9579 - loss: 0.1363 - val_accuracy: 0.9792 - val_loss: 0.0799\n",
      "Epoch 117/130\n",
      "\u001b[1m72/72\u001b[0m \u001b[32m━━━━━━━━━━━━━━━━━━━━\u001b[0m\u001b[37m\u001b[0m \u001b[1m2s\u001b[0m 27ms/step - accuracy: 0.9682 - loss: 0.1170 - val_accuracy: 0.9514 - val_loss: 0.1646\n",
      "Epoch 118/130\n",
      "\u001b[1m72/72\u001b[0m \u001b[32m━━━━━━━━━━━━━━━━━━━━\u001b[0m\u001b[37m\u001b[0m \u001b[1m2s\u001b[0m 27ms/step - accuracy: 0.9350 - loss: 0.2250 - val_accuracy: 0.9583 - val_loss: 0.1296\n",
      "Epoch 119/130\n",
      "\u001b[1m72/72\u001b[0m \u001b[32m━━━━━━━━━━━━━━━━━━━━\u001b[0m\u001b[37m\u001b[0m \u001b[1m2s\u001b[0m 27ms/step - accuracy: 0.9323 - loss: 0.2066 - val_accuracy: 0.9410 - val_loss: 0.1653\n",
      "Epoch 120/130\n",
      "\u001b[1m72/72\u001b[0m \u001b[32m━━━━━━━━━━━━━━━━━━━━\u001b[0m\u001b[37m\u001b[0m \u001b[1m2s\u001b[0m 27ms/step - accuracy: 0.9487 - loss: 0.1611 - val_accuracy: 0.9826 - val_loss: 0.1139\n",
      "Epoch 121/130\n",
      "\u001b[1m72/72\u001b[0m \u001b[32m━━━━━━━━━━━━━━━━━━━━\u001b[0m\u001b[37m\u001b[0m \u001b[1m2s\u001b[0m 29ms/step - accuracy: 0.9579 - loss: 0.1931 - val_accuracy: 0.9757 - val_loss: 0.1092\n",
      "Epoch 122/130\n",
      "\u001b[1m72/72\u001b[0m \u001b[32m━━━━━━━━━━━━━━━━━━━━\u001b[0m\u001b[37m\u001b[0m \u001b[1m2s\u001b[0m 28ms/step - accuracy: 0.9582 - loss: 0.1569 - val_accuracy: 0.9167 - val_loss: 0.3066\n",
      "Epoch 123/130\n",
      "\u001b[1m72/72\u001b[0m \u001b[32m━━━━━━━━━━━━━━━━━━━━\u001b[0m\u001b[37m\u001b[0m \u001b[1m2s\u001b[0m 29ms/step - accuracy: 0.9473 - loss: 0.2211 - val_accuracy: 0.9792 - val_loss: 0.0915\n",
      "Epoch 124/130\n",
      "\u001b[1m72/72\u001b[0m \u001b[32m━━━━━━━━━━━━━━━━━━━━\u001b[0m\u001b[37m\u001b[0m \u001b[1m2s\u001b[0m 28ms/step - accuracy: 0.9565 - loss: 0.1434 - val_accuracy: 0.9583 - val_loss: 0.1684\n",
      "Epoch 125/130\n",
      "\u001b[1m72/72\u001b[0m \u001b[32m━━━━━━━━━━━━━━━━━━━━\u001b[0m\u001b[37m\u001b[0m \u001b[1m2s\u001b[0m 27ms/step - accuracy: 0.9429 - loss: 0.2109 - val_accuracy: 0.9757 - val_loss: 0.0712\n",
      "Epoch 126/130\n",
      "\u001b[1m72/72\u001b[0m \u001b[32m━━━━━━━━━━━━━━━━━━━━\u001b[0m\u001b[37m\u001b[0m \u001b[1m2s\u001b[0m 28ms/step - accuracy: 0.9767 - loss: 0.0889 - val_accuracy: 0.9861 - val_loss: 0.0579\n",
      "Epoch 127/130\n",
      "\u001b[1m72/72\u001b[0m \u001b[32m━━━━━━━━━━━━━━━━━━━━\u001b[0m\u001b[37m\u001b[0m \u001b[1m2s\u001b[0m 27ms/step - accuracy: 0.9761 - loss: 0.0763 - val_accuracy: 0.9896 - val_loss: 0.0477\n",
      "Epoch 128/130\n",
      "\u001b[1m72/72\u001b[0m \u001b[32m━━━━━━━━━━━━━━━━━━━━\u001b[0m\u001b[37m\u001b[0m \u001b[1m2s\u001b[0m 27ms/step - accuracy: 0.9805 - loss: 0.0766 - val_accuracy: 0.9896 - val_loss: 0.0331\n",
      "Epoch 129/130\n",
      "\u001b[1m72/72\u001b[0m \u001b[32m━━━━━━━━━━━━━━━━━━━━\u001b[0m\u001b[37m\u001b[0m \u001b[1m2s\u001b[0m 29ms/step - accuracy: 0.9835 - loss: 0.0630 - val_accuracy: 0.9618 - val_loss: 0.1726\n",
      "Epoch 130/130\n",
      "\u001b[1m72/72\u001b[0m \u001b[32m━━━━━━━━━━━━━━━━━━━━\u001b[0m\u001b[37m\u001b[0m \u001b[1m2s\u001b[0m 29ms/step - accuracy: 0.9380 - loss: 0.2953 - val_accuracy: 0.9271 - val_loss: 0.2389\n"
     ]
    }
   ],
   "source": [
    "model_A = create_model_LSTM()\n",
    "history = model_A.fit(w, y_cat[:training_samples], validation_data=(np.expand_dims(X[training_samples: training_samples+validation_samples], -1),y_cat[training_samples: training_samples+validation_samples]), epochs=130, shuffle=True)"
   ]
  },
  {
   "cell_type": "markdown",
   "id": "bb3bf8c7-1d41-464b-83c9-9926ceee4d62",
   "metadata": {},
   "source": [
    "### Model Evaluation\n",
    "\n",
    "After training, the model is evaluated on the test set to determine its final accuracy. The test accuracy provides an indication of how well the model generalizes to unseen data."
   ]
  },
  {
   "cell_type": "code",
   "execution_count": 47,
   "id": "74caa6ca-d114-4d23-bf42-a80728f81ae8",
   "metadata": {},
   "outputs": [
    {
     "name": "stdout",
     "output_type": "stream",
     "text": [
      "\u001b[1m81/81\u001b[0m \u001b[32m━━━━━━━━━━━━━━━━━━━━\u001b[0m\u001b[37m\u001b[0m \u001b[1m1s\u001b[0m 14ms/step - accuracy: 0.9534 - loss: 0.1384\n",
      "Evaluation Metrics:\n",
      "Loss: 0.16391098499298096\n",
      "Accuracy: 0.9452160596847534\n",
      "\u001b[1m18/18\u001b[0m \u001b[32m━━━━━━━━━━━━━━━━━━━━\u001b[0m\u001b[37m\u001b[0m \u001b[1m1s\u001b[0m 15ms/step\n",
      "True label: 5, Predicted label: 5\n",
      "True label: 2, Predicted label: 2\n",
      "True label: 3, Predicted label: 3\n",
      "True label: 1, Predicted label: 1\n",
      "True label: 1, Predicted label: 1\n",
      "True label: 1, Predicted label: 1\n",
      "True label: 7, Predicted label: 7\n",
      "True label: 0, Predicted label: 0\n",
      "True label: 3, Predicted label: 3\n",
      "True label: 2, Predicted label: 2\n"
     ]
    }
   ],
   "source": [
    "\n",
    "\n",
    "# Evaluation on test data\n",
    "evaluation = model_A.evaluate(\n",
    "    np.expand_dims(X[test_samples:], -1),  # Test data (assuming X is your test data)\n",
    "    y_cat[test_samples:],  # Test labels in categorical format (assuming y_cat is your test labels)\n",
    ")\n",
    "\n",
    "# Printing evaluation metrics\n",
    "print(\"Evaluation Metrics:\")\n",
    "print(\"Loss:\", evaluation[0])\n",
    "print(\"Accuracy:\", evaluation[1])\n",
    "\n",
    "predictions = model_A.predict(X_test)\n",
    "predicted_labels = np.argmax(predictions, axis=1)\n",
    "true_labels = np.argmax(y_test, axis=1)\n",
    "\n",
    "# Print some predictions\n",
    "for i in range(10):\n",
    "    print(f\"True label: {true_labels[i]}, Predicted label: {predicted_labels[i]}\")\n"
   ]
  },
  {
   "cell_type": "markdown",
   "id": "afb7c218-949d-4729-9beb-63516a267d7e",
   "metadata": {},
   "source": [
    "\n",
    "# Model Training and Test Accuracy\n",
    "\n",
    "The following plot shows the accuracy of the Conv1D model over 100 epochs for both the training and test datasets.\n"
   ]
  },
  {
   "cell_type": "code",
   "execution_count": 49,
   "id": "0c09a48c-9541-48b7-a14d-255d02d6feb4",
   "metadata": {},
   "outputs": [
    {
     "data": {
      "text/plain": [
       "<matplotlib.legend.Legend at 0x285b0550410>"
      ]
     },
     "execution_count": 49,
     "metadata": {},
     "output_type": "execute_result"
    },
    {
     "data": {
      "image/png": "[encoded data removed]",
      "text/plain": [
       "<Figure size 1200x400 with 1 Axes>"
      ]
     },
     "metadata": {},
     "output_type": "display_data"
    }
   ],
   "source": [
    "plt.figure(figsize=(12, 4))\n",
    "plt.subplot(1, 2, 1)\n",
    "plt.plot(history.history['accuracy'])\n",
    "plt.plot(history.history['val_accuracy'])\n",
    "plt.title('Model accuracy')\n",
    "plt.ylabel('Accuracy')\n",
    "plt.xlabel('Epoch')\n",
    "plt.legend(['Train', 'Test'], loc='upper left')"
   ]
  },
  {
   "cell_type": "markdown",
   "id": "617d7de2-cf38-4b87-a94e-8a1f6c406c37",
   "metadata": {},
   "source": [
    "## Description\n",
    "\n",
    "- **X-axis (Epoch)**: Represents the number of epochs, ranging from 0 to 130\n",
    "- **Y-axis (Accuracy)**: Represents accuracy, ranging from 0 to 1.0.\n",
    "\n",
    "## Observations\n",
    "\n",
    "- **Training Accuracy (Blue Line)**: The 'Train' accuracy line shows a consistent increase over epochs, indicating continuous improvement in performance on the training data.\n",
    "- **Test Accuracy (Orange Line)**: The 'Test' accuracy line fluctuates but generally follows the upward trend of the 'Train' line. This suggests that the model's performance on unseen test data also improves over epochs, with some variability."
   ]
  },
  {
   "cell_type": "markdown",
   "id": "476b3c27-8d4a-4e89-846f-513824e987cb",
   "metadata": {},
   "source": [
    "# Confusion Matrix\n",
    "\n",
    "The following plot shows the confusion matrix for the Conv1D model's predictions on the test dataset.\n",
    "\n"
   ]
  },
  {
   "cell_type": "code",
   "execution_count": 51,
   "id": "1a149853-2e28-4a36-92a6-ca4f1312bd2c",
   "metadata": {},
   "outputs": [
    {
     "data": {
      "image/png": "[encoded data removed]",
      "text/plain": [
       "<Figure size 640x480 with 2 Axes>"
      ]
     },
     "metadata": {},
     "output_type": "display_data"
    }
   ],
   "source": [
    "\n",
    "# Compute confusion matrix\n",
    "conf_matrix = confusion_matrix(true_labels, predicted_labels)\n",
    "sns.heatmap(conf_matrix, annot=True, fmt=\"d\", cmap=\"Blues\", xticklabels=label_encoder.classes_, yticklabels=label_encoder.classes_)\n",
    "plt.ylabel('Actual')\n",
    "plt.xlabel('Predicted')\n",
    "plt.show()\n"
   ]
  },
  {
   "cell_type": "markdown",
   "id": "7042688c-5e80-412b-a2f1-9cb5c62b9281",
   "metadata": {},
   "source": [
    "\n",
    "\n",
    "### Description\n",
    "\n",
    "- **X-axis (Predicted)**: Represents the predicted emotion labels by the model.\n",
    "- **Y-axis (Actual)**: Represents the actual emotion labels.\n",
    "- **Color Scale**: The intensity of the color represents the number of instances classified in each category, with darker colors indicating a higher number of instances.\n",
    "\n",
    "### Emotion Labels\n",
    "The numerical labels correspond to the following emotions:\n",
    "- 0: Neutral\n",
    "- 1: Calm\n",
    "- 2: Happy\n",
    "- 3: Sad\n",
    "- 4: Angry\n",
    "- 5: Fearful\n",
    "- 6: Disgust\n",
    "- 7: Surprised\n",
    "\n",
    "### Observations\n",
    "\n",
    "1. **Class 0:**\n",
    "   - Perfect prediction: 36 instances correctly predicted.\n",
    "   - No misclassifications.\n",
    "\n",
    "2. **Class 1 to 7:**\n",
    "   - The majority of predictions are correct for each class.\n",
    "   - There is a slight off-diagonal spread indicating some misclassifications to neighboring classes.\n",
    "\n",
    "3. **General Trend:**\n",
    "   - High accuracy for each class.\n",
    "   - Misclassifications mostly occur in adjacent classes, indicating that errors are minor and close to the actual class.\n",
    "\n",
    "### Conclusions\n",
    "\n",
    "- **High Model Accuracy:** The LSTM model performs exceptionally well, particularly for class 0 with no misclassifications.\n",
    "- **Adjacent Class Misclassifications:** The few errors made are predominantly in predicting adjacent classes, suggesting the model's confusion is limited to closely related classes.\n",
    "- **Strong Performance Across All Classes:** The confusion matrix demonstrates that the model has robust predictive capabilities for a range of classes.\n"
   ]
  },
  {
   "cell_type": "code",
   "execution_count": 55,
   "id": "989966bb-a2b4-48b9-b2b6-c6f4e9a6fb61",
   "metadata": {},
   "outputs": [
    {
     "name": "stderr",
     "output_type": "stream",
     "text": [
      "WARNING:absl:You are saving your model as an HDF5 file via `model.save()` or `keras.saving.save_model(model)`. This file format is considered legacy. We recommend using instead the native Keras format, e.g. `model.save('my_model.keras')` or `keras.saving.save_model(model, 'my_model.keras')`. \n"
     ]
    }
   ],
   "source": [
    "model.save('emotion_recognition_model_LSTM.h5')"
   ]
  },
  {
   "cell_type": "code",
   "execution_count": null,
   "id": "f4596afd-1c4a-4dfe-8dd5-7d8c907e9737",
   "metadata": {},
   "outputs": [],
   "source": []
  }
 ],
 "metadata": {
  "kernelspec": {
   "display_name": "Python 3 (ipykernel)",
   "language": "python",
   "name": "python3"
  },
  "language_info": {
   "codemirror_mode": {
    "name": "ipython",
    "version": 3
   },
   "file_extension": ".py",
   "mimetype": "text/x-python",
   "name": "python",
   "nbconvert_exporter": "python",
   "pygments_lexer": "ipython3",
   "version": "3.12.4"
  }
 },
 "nbformat": 4,
 "nbformat_minor": 5
}
